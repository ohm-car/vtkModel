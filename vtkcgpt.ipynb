{
 "cells": [
  {
   "cell_type": "code",
   "execution_count": null,
   "id": "0552e33c",
   "metadata": {},
   "outputs": [],
   "source": [
    "import vtk\n",
    "import numpy as np\n",
    "from vtk.util import numpy_support\n",
    "from vtkmodules.vtkCommonColor import vtkNamedColors"
   ]
  },
  {
   "cell_type": "code",
   "execution_count": null,
   "id": "5811a0e1",
   "metadata": {},
   "outputs": [],
   "source": [
    "# Generate some example data\n",
    "points = np.array([[0.0, 0.0, 0.0], [5.0, 0.0, 0.0], [0.0, 5.0, 0.0], [0.0, 0.0, 5.0]])\n",
    "\n",
    "# Convert the numpy array to a VTK array\n",
    "vtk_points = vtk.vtkPoints()\n",
    "vtk_points.SetData(numpy_support.numpy_to_vtk(points))\n",
    "\n",
    "print(vtk_points)"
   ]
  },
  {
   "cell_type": "code",
   "execution_count": null,
   "id": "a37ac334",
   "metadata": {},
   "outputs": [],
   "source": [
    "# Create the polyline\n",
    "lines = vtk.vtkCellArray()\n",
    "line = vtk.vtkLine()\n",
    "line.GetPointIds().SetNumberOfIds(3)\n",
    "line.GetPointIds().SetId(0, 0)\n",
    "line.GetPointIds().SetId(2, 2)\n",
    "lines.InsertNextCell(line)"
   ]
  },
  {
   "cell_type": "code",
   "execution_count": null,
   "id": "51762407",
   "metadata": {},
   "outputs": [],
   "source": [
    "#Create colors instance\n",
    "colors = vtkNamedColors()"
   ]
  },
  {
   "cell_type": "code",
   "execution_count": null,
   "id": "bdbac797",
   "metadata": {},
   "outputs": [],
   "source": [
    "# Create the polydata object\n",
    "polydata = vtk.vtkPolyData()\n",
    "polydata.SetPoints(vtk_points)\n",
    "polydata.SetLines(lines)"
   ]
  },
  {
   "cell_type": "code",
   "execution_count": null,
   "id": "c4f70bb7",
   "metadata": {},
   "outputs": [],
   "source": [
    "# Create a mapper and actor\n",
    "mapper = vtk.vtkPolyDataMapper()\n",
    "mapper.SetInputData(polydata)\n",
    "\n",
    "actor = vtk.vtkActor()\n",
    "actor.SetMapper(mapper)\n",
    "actor.GetProperty().SetColor(colors.GetColor3d('MidnightBlue'))"
   ]
  },
  {
   "cell_type": "code",
   "execution_count": null,
   "id": "92b6845a",
   "metadata": {},
   "outputs": [],
   "source": [
    "# Create the renderer, render window, and interactor\n",
    "renderer = vtk.vtkRenderer()\n",
    "renderer.SetBackground(colors.GetColor3d('White'))\n",
    "render_window = vtk.vtkRenderWindow()\n",
    "render_window.AddRenderer(renderer)\n",
    "interactor = vtk.vtkRenderWindowInteractor()\n",
    "interactor.SetRenderWindow(render_window)"
   ]
  },
  {
   "cell_type": "code",
   "execution_count": null,
   "id": "8565a8f9",
   "metadata": {},
   "outputs": [],
   "source": [
    "# Add the actor to the renderer and start the interaction\n",
    "renderer.AddActor(actor)\n",
    "render_window.Render()\n",
    "interactor.Start()"
   ]
  },
  {
   "cell_type": "code",
   "execution_count": null,
   "id": "911eceeb",
   "metadata": {},
   "outputs": [],
   "source": []
  }
 ],
 "metadata": {
  "kernelspec": {
   "display_name": "Python [conda env:vtk] *",
   "language": "python",
   "name": "conda-env-vtk-py"
  },
  "language_info": {
   "codemirror_mode": {
    "name": "ipython",
    "version": 3
   },
   "file_extension": ".py",
   "mimetype": "text/x-python",
   "name": "python",
   "nbconvert_exporter": "python",
   "pygments_lexer": "ipython3",
   "version": "3.11.0"
  }
 },
 "nbformat": 4,
 "nbformat_minor": 5
}

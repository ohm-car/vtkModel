{
 "cells": [
  {
   "cell_type": "code",
   "execution_count": null,
   "id": "945dc754",
   "metadata": {},
   "outputs": [],
   "source": [
    "import vtk\n",
    "import numpy as np"
   ]
  },
  {
   "cell_type": "code",
   "execution_count": null,
   "id": "cef0fa90",
   "metadata": {},
   "outputs": [],
   "source": [
    "import vtk\n",
    "\n",
    "# Read the point cloud from a file\n",
    "reader = vtk.vtkPLYReader()\n",
    "reader.SetFileName('point_cloud.ply')\n",
    "reader.Update()\n",
    "\n",
    "# Perform Poisson surface reconstruction\n",
    "poisson = vtk.vtkPoissonReconstruction()\n",
    "poisson.SetDepth(10)  # Set the depth parameter (controls the level of detail)\n",
    "poisson.SetInputConnection(reader.GetOutputPort())\n",
    "poisson.Update()\n",
    "\n",
    "# Get the reconstructed surface mesh\n",
    "surface = vtk.vtkPolyData()\n",
    "surface.ShallowCopy(poisson.GetOutput())\n",
    "\n",
    "# Write the surface mesh to a file\n",
    "writer = vtk.vtkPLYWriter()\n",
    "writer.SetFileName('reconstructed_surface.ply')\n",
    "writer.SetInputData(surface)\n",
    "writer.Write()\n"
   ]
  },
  {
   "cell_type": "code",
   "execution_count": null,
   "id": "711c47a2",
   "metadata": {},
   "outputs": [],
   "source": [
    "# X = np.load('MasksForPlot.npy')\n",
    "X = np.load('MasksNPYFiles/masksFinalContoured.npy')\n",
    "# Y = X[:,:,:,0]\n",
    "# Y = X[0:5,:,:,0]\n",
    "Y = X[0:50,:,:]          #Set frames here\n",
    "pts = np.argwhere(Y*1)\n",
    "print(X.shape, X.size, Y.shape, Y.size)\n",
    "print(len(pts.tolist()))\n",
    "print(pts.tolist()[0:5])"
   ]
  },
  {
   "cell_type": "code",
   "execution_count": null,
   "id": "b56a0450",
   "metadata": {},
   "outputs": [],
   "source": [
    "# def gen_points_sample():\n",
    "    \n",
    "#     pt = list()\n",
    "    \n",
    "#     for i in range(3,8):\n",
    "#         for j in range(3,8):\n",
    "#             for k in range(3,8):\n",
    "#                 pt.append([i, j, k])\n",
    "#     return pt"
   ]
  },
  {
   "cell_type": "code",
   "execution_count": null,
   "id": "a546e9ef",
   "metadata": {},
   "outputs": [],
   "source": [
    "def gen_points_sample():\n",
    "    \n",
    "    pt = pts.tolist()\n",
    "    npts = list()\n",
    "    for point in pt:\n",
    "#         point.reverse()\n",
    "        npts.append([point[2], point[1], point[0]])\n",
    "    return pt"
   ]
  },
  {
   "cell_type": "code",
   "execution_count": null,
   "id": "c18ba7ec",
   "metadata": {},
   "outputs": [],
   "source": [
    "# points = vtk.vtkPoints()\n",
    "# print(len(gen_points_sample()))\n",
    "# for point in gen_points_sample():\n",
    "#     points.InsertNextPoint(point)"
   ]
  },
  {
   "cell_type": "code",
   "execution_count": null,
   "id": "f5ccfbe4",
   "metadata": {},
   "outputs": [],
   "source": [
    "points = vtk.vtkPoints()\n",
    "print(len(gen_points_sample()))\n",
    "for point in gen_points_sample():\n",
    "    points.InsertNextPoint(point)"
   ]
  },
  {
   "cell_type": "code",
   "execution_count": null,
   "id": "1f0f29e1",
   "metadata": {},
   "outputs": [],
   "source": [
    "# # Create a list of custom points\n",
    "# points = vtk.vtkPoints()\n",
    "# points.InsertNextPoint(0, 0, 0)\n",
    "# points.InsertNextPoint(0, 3, 0)\n",
    "# points.InsertNextPoint(0, 3, 13)\n",
    "# points.InsertNextPoint(0, 3, 6)\n",
    "# points.InsertNextPoint(7, 0, 0)\n",
    "# points.InsertNextPoint(7, 0, 13)\n",
    "# points.InsertNextPoint(7, 3, 13)\n",
    "# points.InsertNextPoint(7, 3, 0)"
   ]
  },
  {
   "cell_type": "code",
   "execution_count": null,
   "id": "3f97bb61",
   "metadata": {},
   "outputs": [],
   "source": [
    "# Create an unstructured grid from the points\n",
    "grid = vtk.vtkUnstructuredGrid()\n",
    "grid.SetPoints(points)"
   ]
  },
  {
   "cell_type": "code",
   "execution_count": null,
   "id": "6130531d",
   "metadata": {},
   "outputs": [],
   "source": [
    "# Use the GPU tessellator to create a Delaunay triangulation\n",
    "# tessellator = vtkGPUUnstructuredGridTessellator()\n",
    "# tessellator.SetInputData(grid)\n",
    "# tessellator.Update()"
   ]
  },
  {
   "cell_type": "code",
   "execution_count": null,
   "id": "0f0dba4b",
   "metadata": {},
   "outputs": [],
   "source": [
    "# Create a point source and set its parameters\n",
    "point_source = vtk.vtkPointSource()\n",
    "point_source.SetNumberOfPoints(points.GetNumberOfPoints())\n",
    "point_source.SetCenter(0, 0, 0)\n",
    "point_source.SetRadius(1.0)"
   ]
  },
  {
   "cell_type": "code",
   "execution_count": null,
   "id": "e25e5ed9",
   "metadata": {},
   "outputs": [],
   "source": [
    "# Set the custom points as the output of the point source\n",
    "point_source.Update()\n",
    "point_source.GetOutput().GetPoints().DeepCopy(points)"
   ]
  },
  {
   "cell_type": "code",
   "execution_count": null,
   "id": "442a9293",
   "metadata": {},
   "outputs": [],
   "source": [
    "# Perform Poisson surface reconstruction\n",
    "poisson = vtk.vtkPoissonReconstruction()\n",
    "poisson.SetDepth(10)  # Set the depth parameter (controls the level of detail)\n",
    "poisson.SetInputConnection(point_source.GetOutput())\n",
    "poisson.Update()"
   ]
  },
  {
   "cell_type": "code",
   "execution_count": null,
   "id": "e5cbdc73",
   "metadata": {},
   "outputs": [],
   "source": [
    "# Get the reconstructed surface mesh\n",
    "surface = vtk.vtkPolyData()\n",
    "surface.ShallowCopy(poisson.GetOutput())"
   ]
  },
  {
   "cell_type": "code",
   "execution_count": null,
   "id": "c23ab621",
   "metadata": {},
   "outputs": [],
   "source": [
    "# Use a Delaunay3D filter to generate a mesh from the points\n",
    "delaunay = vtk.vtkDelaunay3D()\n",
    "delaunay.SetInputData(point_source.GetOutput())\n",
    "delaunay.Update()"
   ]
  },
  {
   "cell_type": "code",
   "execution_count": null,
   "id": "d01e02f2",
   "metadata": {},
   "outputs": [],
   "source": [
    "# Convert to a geometric filter\n",
    "geom_filter = vtk.vtkGeometryFilter()\n",
    "geom_filter.SetInputConnection(delaunay.GetOutputPort())\n",
    "geom_filter.Update()"
   ]
  },
  {
   "cell_type": "code",
   "execution_count": null,
   "id": "ad4e7848",
   "metadata": {},
   "outputs": [],
   "source": [
    "# Create a mapper and actor for the mesh\n",
    "mapper = vtk.vtkPolyDataMapper()\n",
    "# mapper.SetInputData(point_source.GetOutput())\n",
    "mapper.SetInputData(geom_filter.GetOutput())\n",
    "actor = vtk.vtkActor()\n",
    "actor.SetMapper(mapper)"
   ]
  },
  {
   "cell_type": "code",
   "execution_count": null,
   "id": "491efa40",
   "metadata": {},
   "outputs": [],
   "source": [
    "# Create a renderer and add the actor to it\n",
    "renderer = vtk.vtkRenderer()\n",
    "renderer.AddActor(actor)"
   ]
  },
  {
   "cell_type": "code",
   "execution_count": null,
   "id": "361d9ef9",
   "metadata": {},
   "outputs": [],
   "source": [
    "# Create a render window and set its size\n",
    "render_window = vtk.vtkRenderWindow()\n",
    "render_window.SetSize(600, 600)"
   ]
  },
  {
   "cell_type": "code",
   "execution_count": null,
   "id": "48e18617",
   "metadata": {},
   "outputs": [],
   "source": [
    "# Add the renderer to the render window\n",
    "render_window.AddRenderer(renderer)\n",
    "\n",
    "# Create an interactor and start the render loop\n",
    "interactor = vtk.vtkRenderWindowInteractor()\n",
    "interactor.SetRenderWindow(render_window)\n",
    "interactor.Initialize()\n",
    "interactor.Start()"
   ]
  },
  {
   "cell_type": "code",
   "execution_count": null,
   "id": "17575d89",
   "metadata": {},
   "outputs": [],
   "source": []
  }
 ],
 "metadata": {
  "kernelspec": {
   "display_name": "Python [conda env:vtk] *",
   "language": "python",
   "name": "conda-env-vtk-py"
  },
  "language_info": {
   "codemirror_mode": {
    "name": "ipython",
    "version": 3
   },
   "file_extension": ".py",
   "mimetype": "text/x-python",
   "name": "python",
   "nbconvert_exporter": "python",
   "pygments_lexer": "ipython3",
   "version": "3.11.0"
  }
 },
 "nbformat": 4,
 "nbformat_minor": 5
}

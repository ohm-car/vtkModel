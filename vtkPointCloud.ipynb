{
 "cells": [
  {
   "cell_type": "code",
   "execution_count": 1,
   "id": "883d7786",
   "metadata": {},
   "outputs": [],
   "source": [
    "#!/usr/bin/env python\n",
    "\n",
    "# noinspection PyUnresolvedReferences\n",
    "import vtkmodules.vtkInteractionStyle\n",
    "# noinspection PyUnresolvedReferences\n",
    "import vtkmodules.vtkRenderingOpenGL2\n",
    "from vtkmodules.vtkCommonColor import vtkNamedColors\n",
    "from vtkmodules.vtkFiltersSources import vtkPointSource\n",
    "from vtkmodules.vtkRenderingCore import (\n",
    "    vtkActor,\n",
    "    vtkPolyDataMapper,\n",
    "    vtkRenderWindow,\n",
    "    vtkRenderWindowInteractor,\n",
    "    vtkRenderer\n",
    ")\n",
    "import vtk\n",
    "import numpy as np"
   ]
  },
  {
   "cell_type": "code",
   "execution_count": 2,
   "id": "96819005",
   "metadata": {},
   "outputs": [],
   "source": [
    "def gen_points():\n",
    "    \n",
    "    pt = list()\n",
    "    \n",
    "    for i in range(3,8):\n",
    "        for j in range(3,8):\n",
    "            for k in range(3,8):\n",
    "                pt.append([i/10, j/10, k/10])\n",
    "    return pt"
   ]
  },
  {
   "cell_type": "code",
   "execution_count": 3,
   "id": "bdae1b23",
   "metadata": {},
   "outputs": [
    {
     "name": "stderr",
     "output_type": "stream",
     "text": [
      "\u001b[0m\u001b[31m2023-06-09 16:26:40.706 (   0.279s) [        2DFF4740]vtkDemandDrivenPipeline:751    ERR| vtkCompositeDataPipeline (0x559294bc6d80): Input for connection index 0 on input port index 0 for algorithm vtkMarchingCubes (0x559294b52280) is of type vtkPolyData, but a vtkImageData is required.\u001b[0m\n",
      "\u001b[0m\u001b[31m2023-06-09 16:26:40.843 (   0.416s) [        2DFF4740]vtkDemandDrivenPipeline:751    ERR| vtkCompositeDataPipeline (0x559294bc6d80): Input for connection index 0 on input port index 0 for algorithm vtkMarchingCubes (0x559294b52280) is of type vtkPolyData, but a vtkImageData is required.\u001b[0m\n",
      "\u001b[0m\u001b[31m2023-06-09 16:26:40.843 (   0.416s) [        2DFF4740]vtkDemandDrivenPipeline:751    ERR| vtkCompositeDataPipeline (0x559294bc6d80): Input for connection index 0 on input port index 0 for algorithm vtkMarchingCubes (0x559294b52280) is of type vtkPolyData, but a vtkImageData is required.\u001b[0m\n",
      "\u001b[0m\u001b[31m2023-06-09 16:26:40.843 (   0.417s) [        2DFF4740]vtkDemandDrivenPipeline:751    ERR| vtkCompositeDataPipeline (0x559294bc6d80): Input for connection index 0 on input port index 0 for algorithm vtkMarchingCubes (0x559294b52280) is of type vtkPolyData, but a vtkImageData is required.\u001b[0m\n",
      "\u001b[0m\u001b[31m2023-06-09 16:26:40.843 (   0.417s) [        2DFF4740]vtkDemandDrivenPipeline:751    ERR| vtkCompositeDataPipeline (0x559294bc6d80): Input for connection index 0 on input port index 0 for algorithm vtkMarchingCubes (0x559294b52280) is of type vtkPolyData, but a vtkImageData is required.\u001b[0m\n",
      "\u001b[0m\u001b[31m2023-06-09 16:26:40.846 (   0.419s) [        2DFF4740]vtkDemandDrivenPipeline:751    ERR| vtkCompositeDataPipeline (0x559294bc6d80): Input for connection index 0 on input port index 0 for algorithm vtkMarchingCubes (0x559294b52280) is of type vtkPolyData, but a vtkImageData is required.\u001b[0m\n",
      "\u001b[0m\u001b[31m2023-06-09 16:26:40.846 (   0.419s) [        2DFF4740]vtkDemandDrivenPipeline:751    ERR| vtkCompositeDataPipeline (0x559294bc6d80): Input for connection index 0 on input port index 0 for algorithm vtkMarchingCubes (0x559294b52280) is of type vtkPolyData, but a vtkImageData is required.\u001b[0m\n"
     ]
    }
   ],
   "source": [
    "def main():\n",
    "    colors = vtkNamedColors()\n",
    "\n",
    "    # create a rendering window and renderer\n",
    "    ren = vtkRenderer()\n",
    "    renWin = vtkRenderWindow()\n",
    "    renWin.AddRenderer(ren)\n",
    "    renWin.SetWindowName('PointSource')\n",
    "\n",
    "    # create a renderwindowinteractor\n",
    "    iren = vtkRenderWindowInteractor()\n",
    "    iren.SetRenderWindow(renWin)\n",
    "\n",
    "    # Create a point cloud\n",
    "    points = vtk.vtkPoints()\n",
    "    for point in gen_points():\n",
    "        points.InsertNextPoint(point)\n",
    "    \n",
    "    src = vtkPointSource()\n",
    "    src.SetCenter(0, 0, 0)\n",
    "    src.SetNumberOfPoints(points.GetNumberOfPoints())\n",
    "    src.SetRadius(1)\n",
    "    src.Update()\n",
    "    src.GetOutput().GetPoints().DeepCopy(points)\n",
    "    \n",
    "    # Use vtkMarchingCubes to generate a 3D volume from the points\n",
    "    marching_cubes = vtk.vtkMarchingCubes()\n",
    "    marching_cubes.SetInputConnection(src.GetOutputPort())\n",
    "#     marching_cubes.SetValue(0, 0.5)\n",
    "    marching_cubes.Update()\n",
    "\n",
    "    # mapper\n",
    "    mapper = vtkPolyDataMapper()\n",
    "    mapper.SetInputConnection(marching_cubes.GetOutputPort())\n",
    "#     mapper.SetInputConnection(points.GetOutputPort())\n",
    "\n",
    "    # actor\n",
    "    actor = vtkActor()\n",
    "    actor.SetMapper(mapper)\n",
    "    actor.GetProperty().SetColor(colors.GetColor3d('Tomato'))\n",
    "    actor.GetProperty().SetPointSize(4)\n",
    "\n",
    "    # assign actor to the renderer\n",
    "    ren.AddActor(actor)\n",
    "    ren.SetBackground(colors.GetColor3d('DarkGreen'))\n",
    "\n",
    "    # enable user interface interactor\n",
    "    iren.Initialize()\n",
    "    renWin.Render()\n",
    "    iren.Start()\n",
    "\n",
    "\n",
    "if __name__ == '__main__':\n",
    "    main()\n"
   ]
  },
  {
   "cell_type": "code",
   "execution_count": null,
   "id": "c58a10a7",
   "metadata": {},
   "outputs": [],
   "source": []
  }
 ],
 "metadata": {
  "kernelspec": {
   "display_name": "Python [conda env:vtk] *",
   "language": "python",
   "name": "conda-env-vtk-py"
  },
  "language_info": {
   "codemirror_mode": {
    "name": "ipython",
    "version": 3
   },
   "file_extension": ".py",
   "mimetype": "text/x-python",
   "name": "python",
   "nbconvert_exporter": "python",
   "pygments_lexer": "ipython3",
   "version": "3.11.0"
  }
 },
 "nbformat": 4,
 "nbformat_minor": 5
}

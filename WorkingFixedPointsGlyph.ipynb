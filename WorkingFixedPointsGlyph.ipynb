{
 "cells": [
  {
   "cell_type": "code",
   "execution_count": 4,
   "id": "fa6c848c",
   "metadata": {},
   "outputs": [],
   "source": [
    "import vtk\n",
    "\n",
    "# Create the vtkPoints object and add some points to it\n",
    "points = vtk.vtkPoints()\n",
    "points.InsertNextPoint(0, 0, 0)\n",
    "points.InsertNextPoint(1, 1, 1)\n",
    "points.InsertNextPoint(2, 3, 4)\n",
    "# points.InsertNextPoint(12, 9, 12)\n",
    "\n",
    "# Create the vtkPolyData object and set the points\n",
    "polydata = vtk.vtkPolyData()\n",
    "polydata.SetPoints(points)\n",
    "\n",
    "# Create the vtkGlyph3D object to represent the points as spheres\n",
    "sphereSource = vtk.vtkSphereSource()\n",
    "sphereSource.SetRadius(0.1)\n",
    "glyph3D = vtk.vtkGlyph3D()\n",
    "glyph3D.SetSourceConnection(sphereSource.GetOutputPort())\n",
    "glyph3D.SetInputData(polydata)\n",
    "glyph3D.Update()\n",
    "\n",
    "# Create the vtkPolyDataMapper object and set the input to the glyph output\n",
    "mapper = vtk.vtkPolyDataMapper()\n",
    "mapper.SetInputConnection(glyph3D.GetOutputPort())\n",
    "\n",
    "# Create the vtkActor object and set the mapper\n",
    "actor = vtk.vtkActor()\n",
    "actor.SetMapper(mapper)\n",
    "\n",
    "# Create the vtkRenderer and vtkRenderWindow objects\n",
    "renderer = vtk.vtkRenderer()\n",
    "renderer.AddActor(actor)\n",
    "renderWindow = vtk.vtkRenderWindow()\n",
    "renderWindow.AddRenderer(renderer)\n",
    "\n",
    "# Create the vtkRenderWindowInteractor and start the interactor\n",
    "interactor = vtk.vtkRenderWindowInteractor()\n",
    "interactor.SetRenderWindow(renderWindow)\n",
    "interactor.Start()\n"
   ]
  },
  {
   "cell_type": "code",
   "execution_count": null,
   "id": "1a160511",
   "metadata": {},
   "outputs": [],
   "source": []
  }
 ],
 "metadata": {
  "kernelspec": {
   "display_name": "Python [conda env:vtk] *",
   "language": "python",
   "name": "conda-env-vtk-py"
  },
  "language_info": {
   "codemirror_mode": {
    "name": "ipython",
    "version": 3
   },
   "file_extension": ".py",
   "mimetype": "text/x-python",
   "name": "python",
   "nbconvert_exporter": "python",
   "pygments_lexer": "ipython3",
   "version": "3.11.0"
  }
 },
 "nbformat": 4,
 "nbformat_minor": 5
}

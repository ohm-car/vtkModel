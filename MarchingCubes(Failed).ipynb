{
 "cells": [
  {
   "cell_type": "code",
   "execution_count": null,
   "id": "aa720fe7",
   "metadata": {},
   "outputs": [],
   "source": [
    "import vtk\n",
    "\n",
    "# Create a vtkPointSource to generate a set of points\n",
    "point_source = vtk.vtkPointSource()\n",
    "point_source.SetNumberOfPoints(100)\n",
    "point_source.Update()\n",
    "\n",
    "# Use vtkMarchingCubes to generate a 3D volume from the points\n",
    "marching_cubes = vtk.vtkMarchingCubes()\n",
    "marching_cubes.SetInputConnection(point_source.GetOutputPort())\n",
    "marching_cubes.SetValue(0, 0.5)\n",
    "marching_cubes.Update()\n",
    "\n",
    "# Create a mapper and actor to display the volume\n",
    "mapper = vtk.vtkPolyDataMapper()\n",
    "# mapper = vtk.vtkImageMapper()\n",
    "mapper.SetInputConnection(marching_cubes.GetOutputPort())\n",
    "actor = vtk.vtkActor()\n",
    "actor.SetMapper(mapper)\n",
    "\n",
    "# Create a renderer, render window, and interactor\n",
    "renderer = vtk.vtkRenderer()\n",
    "render_window = vtk.vtkRenderWindow()\n",
    "render_window.AddRenderer(renderer)\n",
    "render_window_interactor = vtk.vtkRenderWindowInteractor()\n",
    "render_window_interactor.SetRenderWindow(render_window)\n",
    "\n",
    "# Add the actor to the renderer and initialize the interactor\n",
    "renderer.AddActor(actor)\n",
    "render_window.Render()\n",
    "render_window_interactor.Start()\n"
   ]
  },
  {
   "cell_type": "code",
   "execution_count": null,
   "id": "b045acd1",
   "metadata": {},
   "outputs": [],
   "source": []
  }
 ],
 "metadata": {
  "kernelspec": {
   "display_name": "Python [conda env:vtk] *",
   "language": "python",
   "name": "conda-env-vtk-py"
  },
  "language_info": {
   "codemirror_mode": {
    "name": "ipython",
    "version": 3
   },
   "file_extension": ".py",
   "mimetype": "text/x-python",
   "name": "python",
   "nbconvert_exporter": "python",
   "pygments_lexer": "ipython3",
   "version": "3.11.0"
  }
 },
 "nbformat": 4,
 "nbformat_minor": 5
}

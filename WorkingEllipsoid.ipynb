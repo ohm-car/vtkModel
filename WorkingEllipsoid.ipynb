{
 "cells": [
  {
   "cell_type": "code",
   "execution_count": 1,
   "id": "4c974e06",
   "metadata": {},
   "outputs": [],
   "source": [
    "import vtk\n",
    "\n",
    "# Create the ellipsoid object\n",
    "ellipsoid = vtk.vtkParametricEllipsoid()\n",
    "\n",
    "# Set the parameters of the ellipsoid\n",
    "ellipsoid.SetXRadius(1.0)\n",
    "ellipsoid.SetYRadius(2.0)\n",
    "ellipsoid.SetZRadius(3.0)\n",
    "# ellipsoid.SetScaleFactor(1.0)\n",
    "# ellipsoid.SetMaximumVariance(0)\n",
    "# ellipsoid.SetNormal(1, 1, 1)\n",
    "# ellipsoid.SetCenter(0, 0, 0)\n",
    "# ellipsoid.SetParameterizationToNormalizedSpherical()\n",
    "\n",
    "\n",
    "source = vtk.vtkParametricFunctionSource()\n",
    "source.SetParametricFunction(ellipsoid)\n",
    "source.SetUResolution(15)\n",
    "source.SetVResolution(15)\n",
    "source.SetWResolution(15)\n",
    "source.Update()\n",
    "\n",
    "polydata = source.GetOutput()\n",
    "\n",
    "# Create a mapper and actor to display the ellipsoid\n",
    "mapper = vtk.vtkPolyDataMapper()\n",
    "mapper.SetInputData(polydata)\n",
    "\n",
    "actor = vtk.vtkActor()\n",
    "actor.SetMapper(mapper)\n",
    "actor.GetProperty().SetColor(1, 0, 0)\n",
    "\n",
    "# Create a renderer and window to display the actor\n",
    "renderer = vtk.vtkRenderer()\n",
    "renderer.AddActor(actor)\n",
    "\n",
    "window = vtk.vtkRenderWindow()\n",
    "window.AddRenderer(renderer)\n",
    "window.SetSize(500, 500)\n",
    "\n",
    "# Start the rendering loop\n",
    "interactor = vtk.vtkRenderWindowInteractor()\n",
    "interactor.SetRenderWindow(window)\n",
    "interactor.Initialize()\n",
    "interactor.Start()\n"
   ]
  },
  {
   "cell_type": "code",
   "execution_count": null,
   "id": "2621ab24",
   "metadata": {},
   "outputs": [],
   "source": []
  }
 ],
 "metadata": {
  "kernelspec": {
   "display_name": "Python [conda env:vtk] *",
   "language": "python",
   "name": "conda-env-vtk-py"
  },
  "language_info": {
   "codemirror_mode": {
    "name": "ipython",
    "version": 3
   },
   "file_extension": ".py",
   "mimetype": "text/x-python",
   "name": "python",
   "nbconvert_exporter": "python",
   "pygments_lexer": "ipython3",
   "version": "3.11.0"
  }
 },
 "nbformat": 4,
 "nbformat_minor": 5
}

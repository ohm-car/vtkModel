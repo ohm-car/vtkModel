{
 "cells": [
  {
   "cell_type": "code",
   "execution_count": null,
   "id": "ed9f9bdd",
   "metadata": {},
   "outputs": [],
   "source": [
    "import vtk"
   ]
  },
  {
   "cell_type": "code",
   "execution_count": null,
   "id": "f5af8461",
   "metadata": {},
   "outputs": [],
   "source": [
    "def gen_points_sample(x):\n",
    "    \n",
    "    pt = list()\n",
    "    \n",
    "    for k in range(x, x + 5):\n",
    "        for j in range(x, x + 5):\n",
    "            for i in range(x, x + 5):\n",
    "                if k < x + 3:\n",
    "                    pt.append([i + k, j, k])\n",
    "                elif k == 3:\n",
    "#                     pt.append([i + 1, j, k])\n",
    "                    pass\n",
    "                else:\n",
    "#                     pt.append([i, j, k])\n",
    "                    pass\n",
    "#     pt.append([15, 15, 15])\n",
    "    return pt"
   ]
  },
  {
   "cell_type": "code",
   "execution_count": null,
   "id": "e5912076",
   "metadata": {},
   "outputs": [],
   "source": [
    "points = vtk.vtkPoints()\n",
    "print(gen_points_sample(0))\n",
    "print(len(gen_points_sample(0)))\n",
    "for point in gen_points_sample(0):\n",
    "    points.InsertNextPoint(point)"
   ]
  },
  {
   "cell_type": "code",
   "execution_count": null,
   "id": "2606f628",
   "metadata": {},
   "outputs": [],
   "source": [
    "pointsA = vtk.vtkPoints()\n",
    "print(gen_points_sample(10))\n",
    "print(len(gen_points_sample(10)))\n",
    "for point in gen_points_sample(10):\n",
    "    pointsA.InsertNextPoint(point)"
   ]
  },
  {
   "cell_type": "code",
   "execution_count": null,
   "id": "3e43bcef",
   "metadata": {},
   "outputs": [],
   "source": [
    "# # Create a list of custom points\n",
    "# points = vtk.vtkPoints()\n",
    "# points.InsertNextPoint(0, 0, 0)\n",
    "# points.InsertNextPoint(0, 3, 0)\n",
    "# points.InsertNextPoint(0, 3, 13)\n",
    "# points.InsertNextPoint(0, 3, 6)\n",
    "# points.InsertNextPoint(7, 0, 0)\n",
    "# points.InsertNextPoint(7, 0, 13)\n",
    "# points.InsertNextPoint(7, 3, 13)\n",
    "# points.InsertNextPoint(7, 3, 0)"
   ]
  },
  {
   "cell_type": "code",
   "execution_count": null,
   "id": "40310a29",
   "metadata": {},
   "outputs": [],
   "source": [
    "# Create a point source and set its parameters\n",
    "point_source = vtk.vtkPointSource()\n",
    "point_source.SetNumberOfPoints(points.GetNumberOfPoints())\n",
    "point_source.SetCenter(0, 0, 0)\n",
    "point_source.SetRadius(1.0)\n",
    "\n",
    "point_sourceA = vtk.vtkPointSource()\n",
    "point_sourceA.SetNumberOfPoints(pointsA.GetNumberOfPoints())\n",
    "point_sourceA.SetCenter(0, 0, 0)\n",
    "point_sourceA.SetRadius(1.0)"
   ]
  },
  {
   "cell_type": "code",
   "execution_count": null,
   "id": "d7fc529f",
   "metadata": {},
   "outputs": [],
   "source": [
    "# Set the custom points as the output of the point source\n",
    "point_source.Update()\n",
    "point_source.GetOutput().GetPoints().DeepCopy(points)\n",
    "\n",
    "point_sourceA.Update()\n",
    "point_sourceA.GetOutput().GetPoints().DeepCopy(pointsA)"
   ]
  },
  {
   "cell_type": "code",
   "execution_count": null,
   "id": "bd210da2",
   "metadata": {},
   "outputs": [],
   "source": [
    "# Use a Delaunay3D filter to generate a mesh from the points\n",
    "delaunay = vtk.vtkDelaunay3D()\n",
    "delaunay.SetInputData(point_source.GetOutput())\n",
    "delaunay.Update()\n",
    "\n",
    "delaunayA = vtk.vtkDelaunay3D()\n",
    "delaunayA.SetInputData(point_sourceA.GetOutput())\n",
    "delaunayA.Update()"
   ]
  },
  {
   "cell_type": "code",
   "execution_count": null,
   "id": "fe057864",
   "metadata": {},
   "outputs": [],
   "source": [
    "# Convert to a geometric filter\n",
    "geom_filter = vtk.vtkGeometryFilter()\n",
    "geom_filter.SetInputConnection(delaunay.GetOutputPort())\n",
    "geom_filter.Update()\n",
    "\n",
    "geom_filterA = vtk.vtkGeometryFilter()\n",
    "geom_filterA.SetInputConnection(delaunayA.GetOutputPort())\n",
    "geom_filterA.Update()"
   ]
  },
  {
   "cell_type": "code",
   "execution_count": null,
   "id": "3600e6e0",
   "metadata": {},
   "outputs": [],
   "source": [
    "# Create a mapper and actor for the mesh\n",
    "mapper = vtk.vtkPolyDataMapper()\n",
    "# mapper.SetInputData(point_source.GetOutput())\n",
    "mapper.SetInputData(geom_filter.GetOutput())\n",
    "actor = vtk.vtkActor()\n",
    "actor.SetMapper(mapper)\n",
    "\n",
    "mapperA = vtk.vtkPolyDataMapper()\n",
    "# mapper.SetInputData(point_source.GetOutput())\n",
    "mapperA.SetInputData(geom_filterA.GetOutput())\n",
    "actorA = vtk.vtkActor()\n",
    "actorA.SetMapper(mapperA)"
   ]
  },
  {
   "cell_type": "code",
   "execution_count": null,
   "id": "b0bc4215",
   "metadata": {},
   "outputs": [],
   "source": [
    "# Create a renderer and add the actor to it\n",
    "renderer = vtk.vtkRenderer()\n",
    "renderer.AddActor(actor)\n",
    "renderer.AddActor(actorA)\n",
    "print(isinstance(renderer, vtk.vtkOpenGLRenderer))\n",
    "\n",
    "# rendererA = vtk.vtkRenderer()\n",
    "# rendererA.AddActor(actorA)\n",
    "# print(isinstance(rendererA, vtk.vtkOpenGLRenderer))"
   ]
  },
  {
   "cell_type": "code",
   "execution_count": null,
   "id": "5e1a1e05",
   "metadata": {},
   "outputs": [],
   "source": [
    "# Create a render window and set its size\n",
    "render_window = vtk.vtkRenderWindow()\n",
    "render_window.SetSize(600, 600)"
   ]
  },
  {
   "cell_type": "code",
   "execution_count": null,
   "id": "055a36a5",
   "metadata": {},
   "outputs": [],
   "source": [
    "# Add the renderer to the render window\n",
    "render_window.AddRenderer(renderer)\n",
    "# render_window.AddRenderer(rendererA)\n",
    "\n",
    "# Create an interactor and start the render loop\n",
    "interactor = vtk.vtkRenderWindowInteractor()\n",
    "interactor.SetRenderWindow(render_window)\n",
    "interactor.Initialize()\n",
    "interactor.Start()"
   ]
  },
  {
   "cell_type": "code",
   "execution_count": null,
   "id": "04460f1b",
   "metadata": {},
   "outputs": [],
   "source": []
  }
 ],
 "metadata": {
  "kernelspec": {
   "display_name": "Python [conda env:vtk] *",
   "language": "python",
   "name": "conda-env-vtk-py"
  },
  "language_info": {
   "codemirror_mode": {
    "name": "ipython",
    "version": 3
   },
   "file_extension": ".py",
   "mimetype": "text/x-python",
   "name": "python",
   "nbconvert_exporter": "python",
   "pygments_lexer": "ipython3",
   "version": "3.11.0"
  }
 },
 "nbformat": 4,
 "nbformat_minor": 5
}

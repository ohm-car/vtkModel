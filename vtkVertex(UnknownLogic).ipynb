{
 "cells": [
  {
   "cell_type": "code",
   "execution_count": 1,
   "id": "f35817ba",
   "metadata": {},
   "outputs": [],
   "source": [
    "import vtk\n",
    "import numpy as np"
   ]
  },
  {
   "cell_type": "code",
   "execution_count": 2,
   "id": "d09d17ab",
   "metadata": {},
   "outputs": [],
   "source": [
    "# Create a VTK PolyData object\n",
    "polydata = vtk.vtkPolyData()\n",
    "\n",
    "# Create the points\n",
    "points = np.array([\n",
    "    [0.0, 0.0, 0.0],\n",
    "    [1.0, 0.0, 0.0],\n",
    "    [0.0, 1.0, 0.0],\n",
    "    [0.0, 0.0, 1.0]\n",
    "])\n",
    "\n",
    "# Add the points to the polydata object\n",
    "vtkpoints = vtk.vtkPoints()\n",
    "# vtkpoints.SetData(vtk.vtkFloatArray(points.tolist()))\n",
    "\n",
    "for point in points:\n",
    "    vtkpoints.InsertNextPoint(point.tolist())\n",
    "\n",
    "polydata.SetPoints(vtkpoints)"
   ]
  },
  {
   "cell_type": "code",
   "execution_count": 3,
   "id": "614d03d4",
   "metadata": {},
   "outputs": [],
   "source": [
    "# Create a vtkPoints object to store the points\n",
    "# vtkpoints = vtk.vtkPoints()\n",
    "# vtkpoints.SetData(vtk.vtkFloatArray().points.tolist())\n",
    "\n",
    "# Create a vtkVertex object to represent the points in the visualization\n",
    "vertex = vtk.vtkVertex()\n",
    "vertex.GetPointIds().SetId(0, 0)  # Set the point ID to be used for the vertex"
   ]
  },
  {
   "cell_type": "code",
   "execution_count": 4,
   "id": "d68a5e3e",
   "metadata": {},
   "outputs": [
    {
     "name": "stdout",
     "output_type": "stream",
     "text": [
      "vtkIdList (0x5581e3d59c40)\n",
      "  Debug: Off\n",
      "  Modified Time: 110\n",
      "  Reference Count: 2\n",
      "  Registered Events: (none)\n",
      "  Number of Ids: 1\n",
      "\n",
      "\n"
     ]
    }
   ],
   "source": [
    "print(vertex.GetPointIds())"
   ]
  },
  {
   "cell_type": "code",
   "execution_count": 5,
   "id": "07ba812e",
   "metadata": {},
   "outputs": [
    {
     "data": {
      "text/plain": [
       "0"
      ]
     },
     "execution_count": 5,
     "metadata": {},
     "output_type": "execute_result"
    }
   ],
   "source": [
    "# Create a vtkCellArray object to store the vertices\n",
    "vertices = vtk.vtkCellArray()\n",
    "\n",
    "# Add the vertex to the cell array\n",
    "vertices.InsertNextCell(vertex)"
   ]
  },
  {
   "cell_type": "code",
   "execution_count": 6,
   "id": "94b02caf",
   "metadata": {},
   "outputs": [],
   "source": [
    "# Add the points and vertices to the polydata object\n",
    "polydata.SetPoints(vtkpoints)\n",
    "polydata.SetVerts(vertices)\n",
    "\n",
    "# Create a vtkPolyDataMapper to map the data to the visualization\n",
    "mapper = vtk.vtkPolyDataMapper()\n",
    "mapper.SetInputData(polydata)"
   ]
  },
  {
   "cell_type": "code",
   "execution_count": 7,
   "id": "3d9133bf",
   "metadata": {},
   "outputs": [],
   "source": [
    "# Create a vtkActor to display the data\n",
    "actor = vtk.vtkActor()\n",
    "actor.SetMapper(mapper)\n",
    "\n",
    "# Create a vtkRenderer and vtkRenderWindow to display the actor\n",
    "renderer = vtk.vtkRenderer()\n",
    "renderWindow = vtk.vtkRenderWindow()\n",
    "renderWindow.AddRenderer(renderer)\n",
    "\n",
    "# Add the actor to the renderer\n",
    "renderer.AddActor(actor)"
   ]
  },
  {
   "cell_type": "code",
   "execution_count": 8,
   "id": "73e2865a",
   "metadata": {},
   "outputs": [],
   "source": [
    "# Create a vtkRenderWindowInteractor to start the rendering process\n",
    "interactor = vtk.vtkRenderWindowInteractor()\n",
    "interactor.SetRenderWindow(renderWindow)\n",
    "\n",
    "# Start the interactor\n",
    "interactor.Start()"
   ]
  },
  {
   "cell_type": "code",
   "execution_count": null,
   "id": "41b4981f",
   "metadata": {},
   "outputs": [],
   "source": []
  }
 ],
 "metadata": {
  "kernelspec": {
   "display_name": "Python [conda env:vtk] *",
   "language": "python",
   "name": "conda-env-vtk-py"
  },
  "language_info": {
   "codemirror_mode": {
    "name": "ipython",
    "version": 3
   },
   "file_extension": ".py",
   "mimetype": "text/x-python",
   "name": "python",
   "nbconvert_exporter": "python",
   "pygments_lexer": "ipython3",
   "version": "3.11.0"
  }
 },
 "nbformat": 4,
 "nbformat_minor": 5
}

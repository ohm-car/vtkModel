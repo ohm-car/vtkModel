{
 "cells": [
  {
   "cell_type": "code",
   "execution_count": 1,
   "id": "945dc754",
   "metadata": {},
   "outputs": [],
   "source": [
    "import vtk\n",
    "import numpy as np"
   ]
  },
  {
   "cell_type": "code",
   "execution_count": 2,
   "id": "711c47a2",
   "metadata": {},
   "outputs": [
    {
     "name": "stdout",
     "output_type": "stream",
     "text": [
      "(449, 384, 384, 1) 66207744 (5, 384, 384) 737280\n",
      "55716\n",
      "[[0, 70, 220], [0, 70, 221], [0, 70, 222], [0, 70, 223], [0, 70, 224]]\n"
     ]
    }
   ],
   "source": [
    "X = np.load('MasksForPlot.npy')\n",
    "# Y = X[:,:,:,0]\n",
    "Y = X[0:5,:,:,0]\n",
    "pts = np.argwhere(Y*1)\n",
    "print(X.shape, X.size, Y.shape, Y.size)\n",
    "print(len(pts.tolist()))\n",
    "print(pts.tolist()[0:5])"
   ]
  },
  {
   "cell_type": "code",
   "execution_count": 3,
   "id": "b56a0450",
   "metadata": {},
   "outputs": [],
   "source": [
    "# def gen_points_sample():\n",
    "    \n",
    "#     pt = list()\n",
    "    \n",
    "#     for i in range(3,8):\n",
    "#         for j in range(3,8):\n",
    "#             for k in range(3,8):\n",
    "#                 pt.append([i, j, k])\n",
    "#     return pt"
   ]
  },
  {
   "cell_type": "code",
   "execution_count": 4,
   "id": "a546e9ef",
   "metadata": {},
   "outputs": [],
   "source": [
    "def gen_points_sample():\n",
    "    \n",
    "    pt = pts.tolist()\n",
    "    npts = list()\n",
    "    for point in pt:\n",
    "#         point.reverse()\n",
    "        npts.append([point[2], point[1], point[0]])\n",
    "#         npts.append(point)\n",
    "    return pt"
   ]
  },
  {
   "cell_type": "code",
   "execution_count": 5,
   "id": "c18ba7ec",
   "metadata": {},
   "outputs": [],
   "source": [
    "# points = vtk.vtkPoints()\n",
    "# print(len(gen_points_sample()))\n",
    "# for point in gen_points_sample():\n",
    "#     points.InsertNextPoint(point)"
   ]
  },
  {
   "cell_type": "code",
   "execution_count": 6,
   "id": "f5ccfbe4",
   "metadata": {},
   "outputs": [
    {
     "name": "stdout",
     "output_type": "stream",
     "text": [
      "55716\n"
     ]
    }
   ],
   "source": [
    "points = vtk.vtkPoints()\n",
    "print(len(gen_points_sample()))\n",
    "for point in gen_points_sample():\n",
    "    points.InsertNextPoint(point)"
   ]
  },
  {
   "cell_type": "code",
   "execution_count": 7,
   "id": "1f0f29e1",
   "metadata": {},
   "outputs": [],
   "source": [
    "# # Create a list of custom points\n",
    "# points = vtk.vtkPoints()\n",
    "# points.InsertNextPoint(0, 0, 0)\n",
    "# points.InsertNextPoint(0, 3, 0)\n",
    "# points.InsertNextPoint(0, 3, 13)\n",
    "# points.InsertNextPoint(0, 3, 6)\n",
    "# points.InsertNextPoint(7, 0, 0)\n",
    "# points.InsertNextPoint(7, 0, 13)\n",
    "# points.InsertNextPoint(7, 3, 13)\n",
    "# points.InsertNextPoint(7, 3, 0)"
   ]
  },
  {
   "cell_type": "code",
   "execution_count": 8,
   "id": "0f0dba4b",
   "metadata": {},
   "outputs": [],
   "source": [
    "# Create a point source and set its parameters\n",
    "point_source = vtk.vtkPointSource()\n",
    "point_source.SetNumberOfPoints(points.GetNumberOfPoints())\n",
    "point_source.SetCenter(0, 0, 0)\n",
    "point_source.SetRadius(1.0)"
   ]
  },
  {
   "cell_type": "code",
   "execution_count": 9,
   "id": "e25e5ed9",
   "metadata": {},
   "outputs": [],
   "source": [
    "# Set the custom points as the output of the point source\n",
    "point_source.Update()\n",
    "point_source.GetOutput().GetPoints().DeepCopy(points)"
   ]
  },
  {
   "cell_type": "code",
   "execution_count": 10,
   "id": "c23ab621",
   "metadata": {},
   "outputs": [],
   "source": [
    "# Use a Delaunay3D filter to generate a mesh from the points\n",
    "delaunay = vtk.vtkDelaunay3D()\n",
    "delaunay.SetInputData(point_source.GetOutput())\n",
    "delaunay.Update()"
   ]
  },
  {
   "cell_type": "code",
   "execution_count": 11,
   "id": "d01e02f2",
   "metadata": {},
   "outputs": [],
   "source": [
    "# Convert to a geometric filter\n",
    "geom_filter = vtk.vtkGeometryFilter()\n",
    "geom_filter.SetInputConnection(delaunay.GetOutputPort())\n",
    "geom_filter.Update()"
   ]
  },
  {
   "cell_type": "code",
   "execution_count": 12,
   "id": "ad4e7848",
   "metadata": {},
   "outputs": [],
   "source": [
    "# Create a mapper and actor for the mesh\n",
    "mapper = vtk.vtkPolyDataMapper()\n",
    "# mapper.SetInputData(point_source.GetOutput())\n",
    "mapper.SetInputData(geom_filter.GetOutput())\n",
    "actor = vtk.vtkActor()\n",
    "actor.SetMapper(mapper)"
   ]
  },
  {
   "cell_type": "code",
   "execution_count": 13,
   "id": "491efa40",
   "metadata": {},
   "outputs": [],
   "source": [
    "# Create a renderer and add the actor to it\n",
    "renderer = vtk.vtkRenderer()\n",
    "renderer.AddActor(actor)"
   ]
  },
  {
   "cell_type": "code",
   "execution_count": 14,
   "id": "361d9ef9",
   "metadata": {},
   "outputs": [],
   "source": [
    "# Create a render window and set its size\n",
    "render_window = vtk.vtkRenderWindow()\n",
    "render_window.SetSize(600, 600)"
   ]
  },
  {
   "cell_type": "code",
   "execution_count": 15,
   "id": "48e18617",
   "metadata": {},
   "outputs": [],
   "source": [
    "# Add the renderer to the render window\n",
    "render_window.AddRenderer(renderer)\n",
    "\n",
    "# Create an interactor and start the render loop\n",
    "interactor = vtk.vtkRenderWindowInteractor()\n",
    "interactor.SetRenderWindow(render_window)\n",
    "interactor.Initialize()\n",
    "interactor.Start()"
   ]
  },
  {
   "cell_type": "code",
   "execution_count": null,
   "id": "17575d89",
   "metadata": {},
   "outputs": [],
   "source": []
  }
 ],
 "metadata": {
  "kernelspec": {
   "display_name": "Python [conda env:vtk] *",
   "language": "python",
   "name": "conda-env-vtk-py"
  },
  "language_info": {
   "codemirror_mode": {
    "name": "ipython",
    "version": 3
   },
   "file_extension": ".py",
   "mimetype": "text/x-python",
   "name": "python",
   "nbconvert_exporter": "python",
   "pygments_lexer": "ipython3",
   "version": "3.11.0"
  }
 },
 "nbformat": 4,
 "nbformat_minor": 5
}

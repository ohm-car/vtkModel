{
 "cells": [
  {
   "cell_type": "code",
   "execution_count": null,
   "id": "c47e45a7",
   "metadata": {},
   "outputs": [],
   "source": [
    "import vtk\n",
    "import numpy as np"
   ]
  },
  {
   "cell_type": "code",
   "execution_count": null,
   "id": "523068d2",
   "metadata": {},
   "outputs": [],
   "source": [
    "# X = np.load('MasksForPlot.npy')\n",
    "# Y = X[:,:,:,0]\n",
    "# pts = np.argwhere(Y*1)"
   ]
  },
  {
   "cell_type": "code",
   "execution_count": null,
   "id": "1ae91ad7",
   "metadata": {},
   "outputs": [],
   "source": [
    "for i in range(3,8):\n",
    "    for j in range(3,8):\n",
    "        for k in range(3,8):\n",
    "            pt = [i, j, k]"
   ]
  },
  {
   "cell_type": "code",
   "execution_count": null,
   "id": "132a5b84",
   "metadata": {},
   "outputs": [],
   "source": []
  },
  {
   "cell_type": "code",
   "execution_count": null,
   "id": "ba3b2561",
   "metadata": {},
   "outputs": [],
   "source": [
    "# for i in pts:\n",
    "#     print(i)"
   ]
  },
  {
   "cell_type": "code",
   "execution_count": null,
   "id": "0fe83a22",
   "metadata": {},
   "outputs": [],
   "source": [
    "# Create the points\n",
    "p0 = [0, 0, 0]\n",
    "p1 = [10, 1, 100]\n",
    "\n"
   ]
  },
  {
   "cell_type": "code",
   "execution_count": null,
   "id": "0b2aba67",
   "metadata": {},
   "outputs": [],
   "source": [
    "# Create a vtkPoints object to store the points\n",
    "points = vtk.vtkPoints()\n",
    "\n",
    "# Add the points to the vtkPoints object\n",
    "id0 = points.InsertNextPoint(p0)\n",
    "id1 = points.InsertNextPoint(p1)\n",
    "\n"
   ]
  },
  {
   "cell_type": "code",
   "execution_count": null,
   "id": "7f5c8837",
   "metadata": {},
   "outputs": [],
   "source": [
    "# Create a line between the two points\n",
    "lines = vtk.vtkCellArray()\n",
    "line = vtk.vtkLine()\n",
    "line.GetPointIds().SetId(0, id0)\n",
    "line.GetPointIds().SetId(1, id1)\n",
    "lines.InsertNextCell(line)\n",
    "\n"
   ]
  },
  {
   "cell_type": "code",
   "execution_count": null,
   "id": "00a6d4a3",
   "metadata": {},
   "outputs": [],
   "source": [
    "# Create a polydata to store the lines\n",
    "polydata = vtk.vtkPolyData()\n",
    "polydata.SetPoints(points)\n",
    "polydata.SetLines(lines)\n",
    "\n",
    "# Create a mapper and actor to display the polydata\n",
    "mapper = vtk.vtkPolyDataMapper()\n",
    "mapper.SetInputData(polydata)\n",
    "actor = vtk.vtkActor()\n",
    "actor.SetMapper(mapper)\n",
    "\n"
   ]
  },
  {
   "cell_type": "code",
   "execution_count": null,
   "id": "51c09de1",
   "metadata": {},
   "outputs": [],
   "source": [
    "# Create a renderer, render window, and interactor\n",
    "renderer = vtk.vtkRenderer()\n",
    "render_window = vtk.vtkRenderWindow()\n",
    "render_window.AddRenderer(renderer)\n",
    "render_window_interactor = vtk.vtkRenderWindowInteractor()\n",
    "render_window_interactor.SetRenderWindow(render_window)\n",
    "\n",
    "# Add the actor to the renderer and initialize the interactor\n",
    "renderer.AddActor(actor)\n",
    "render_window.Render()\n",
    "render_window_interactor.Start()\n"
   ]
  }
 ],
 "metadata": {
  "kernelspec": {
   "display_name": "Python [conda env:vtk] *",
   "language": "python",
   "name": "conda-env-vtk-py"
  },
  "language_info": {
   "codemirror_mode": {
    "name": "ipython",
    "version": 3
   },
   "file_extension": ".py",
   "mimetype": "text/x-python",
   "name": "python",
   "nbconvert_exporter": "python",
   "pygments_lexer": "ipython3",
   "version": "3.11.0"
  }
 },
 "nbformat": 4,
 "nbformat_minor": 5
}

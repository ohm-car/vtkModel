{
 "cells": [
  {
   "cell_type": "code",
   "execution_count": null,
   "id": "94de97e9",
   "metadata": {},
   "outputs": [],
   "source": [
    "import vtk\n",
    "\n",
    "# Create the points\n",
    "p0 = [0, 0, 0]\n",
    "p1 = [10, 1, 100]\n",
    "\n",
    "# Create a vtkPoints object to store the points\n",
    "points = vtk.vtkPoints()\n",
    "\n",
    "# Add the points to the vtkPoints object\n",
    "id0 = points.InsertNextPoint(p0)\n",
    "id1 = points.InsertNextPoint(p1)\n",
    "\n",
    "# Create a line between the two points\n",
    "lines = vtk.vtkCellArray()\n",
    "line = vtk.vtkLine()\n",
    "line.GetPointIds().SetId(0, id0)\n",
    "line.GetPointIds().SetId(1, id1)\n",
    "lines.InsertNextCell(line)\n",
    "\n",
    "# Create a polydata to store the lines\n",
    "polydata = vtk.vtkPolyData()\n",
    "polydata.SetPoints(points)\n",
    "polydata.SetLines(lines)\n",
    "\n",
    "# Create a mapper and actor to display the polydata\n",
    "mapper = vtk.vtkPolyDataMapper()\n",
    "mapper.SetInputData(polydata)\n",
    "actor = vtk.vtkActor()\n",
    "actor.SetMapper(mapper)\n",
    "\n",
    "# Create a renderer, render window, and interactor\n",
    "renderer = vtk.vtkRenderer()\n",
    "render_window = vtk.vtkRenderWindow()\n",
    "render_window.AddRenderer(renderer)\n",
    "render_window_interactor = vtk.vtkRenderWindowInteractor()\n",
    "render_window_interactor.SetRenderWindow(render_window)\n",
    "\n",
    "# Add the actor to the renderer and initialize the interactor\n",
    "renderer.AddActor(actor)\n",
    "render_window.Render()\n",
    "render_window_interactor.Start()\n"
   ]
  },
  {
   "cell_type": "code",
   "execution_count": null,
   "id": "c3f94563",
   "metadata": {},
   "outputs": [],
   "source": []
  }
 ],
 "metadata": {
  "kernelspec": {
   "display_name": "Python [conda env:vtk] *",
   "language": "python",
   "name": "conda-env-vtk-py"
  },
  "language_info": {
   "codemirror_mode": {
    "name": "ipython",
    "version": 3
   },
   "file_extension": ".py",
   "mimetype": "text/x-python",
   "name": "python",
   "nbconvert_exporter": "python",
   "pygments_lexer": "ipython3",
   "version": "3.11.0"
  }
 },
 "nbformat": 4,
 "nbformat_minor": 5
}

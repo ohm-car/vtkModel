{
 "cells": [
  {
   "cell_type": "markdown",
   "id": "b28ebebc",
   "metadata": {},
   "source": [
    "Slices of 5 frames, each slice will be individually delaunay-ed and then stacked on top of the previous one"
   ]
  },
  {
   "cell_type": "code",
   "execution_count": 1,
   "id": "945dc754",
   "metadata": {},
   "outputs": [],
   "source": [
    "import vtk\n",
    "import numpy as np"
   ]
  },
  {
   "cell_type": "code",
   "execution_count": 2,
   "id": "711c47a2",
   "metadata": {},
   "outputs": [
    {
     "name": "stdout",
     "output_type": "stream",
     "text": [
      "(449, 384, 384) 66207744 (5, 384, 384) 737280\n",
      "181\n",
      "[[0, 232, 168], [0, 232, 171], [0, 232, 178], [0, 235, 164], [0, 236, 183]]\n"
     ]
    }
   ],
   "source": [
    "# X = np.load('MasksForPlot.npy')\n",
    "X = np.load('MasksNPYFiles/masksFinalContoured.npy')\n",
    "# Y = X[:,:,:,0]\n",
    "# Y = X[0:5,:,:,0]\n",
    "Y = X[0:5,:,:]          #Set frames here\n",
    "pts = np.argwhere(Y*1)\n",
    "print(X.shape, X.size, Y.shape, Y.size)\n",
    "print(len(pts.tolist()))\n",
    "print(pts.tolist()[0:5])"
   ]
  },
  {
   "cell_type": "code",
   "execution_count": 3,
   "id": "b56a0450",
   "metadata": {},
   "outputs": [],
   "source": [
    "# def gen_points_sample():\n",
    "    \n",
    "#     pt = list()\n",
    "    \n",
    "#     for i in range(3,8):\n",
    "#         for j in range(3,8):\n",
    "#             for k in range(3,8):\n",
    "#                 pt.append([i, j, k])\n",
    "#     return pt"
   ]
  },
  {
   "cell_type": "code",
   "execution_count": null,
   "id": "9ff1efcf",
   "metadata": {},
   "outputs": [],
   "source": []
  },
  {
   "cell_type": "code",
   "execution_count": 4,
   "id": "a546e9ef",
   "metadata": {},
   "outputs": [],
   "source": [
    "def gen_points_sample(X, i):\n",
    "    \n",
    "    pts = np.argwhere(X*1)\n",
    "    points = pts.tolist()\n",
    "#     npts = list()\n",
    "#     for point in pt:\n",
    "# #         point.reverse()\n",
    "#         npts.append([point[2], point[1], point[0]])\n",
    "    for pt in points:\n",
    "        pt[0] = pt[0] + i\n",
    "    return points"
   ]
  },
  {
   "cell_type": "code",
   "execution_count": 5,
   "id": "c18ba7ec",
   "metadata": {},
   "outputs": [],
   "source": [
    "# points = vtk.vtkPoints()\n",
    "# print(len(gen_points_sample()))\n",
    "# for point in gen_points_sample():\n",
    "#     points.InsertNextPoint(point)"
   ]
  },
  {
   "cell_type": "code",
   "execution_count": 6,
   "id": "f5ccfbe4",
   "metadata": {},
   "outputs": [],
   "source": [
    "# points = vtk.vtkPoints()\n",
    "# print(len(gen_points_sample(Y)))\n",
    "# for point in gen_points_sample(Y):\n",
    "#     points.InsertNextPoint(point)"
   ]
  },
  {
   "cell_type": "code",
   "execution_count": 7,
   "id": "8ded32ea",
   "metadata": {},
   "outputs": [],
   "source": [
    "def get_vtkPoints_instance(pointsList):\n",
    "    points = vtk.vtkPoints()\n",
    "    for point in pointsList:\n",
    "        points.InsertNextPoint(point)\n",
    "    return points"
   ]
  },
  {
   "cell_type": "code",
   "execution_count": 8,
   "id": "1f0f29e1",
   "metadata": {},
   "outputs": [],
   "source": [
    "# # Create a list of custom points\n",
    "# points = vtk.vtkPoints()\n",
    "# points.InsertNextPoint(0, 0, 0)\n",
    "# points.InsertNextPoint(0, 3, 0)\n",
    "# points.InsertNextPoint(0, 3, 13)\n",
    "# points.InsertNextPoint(0, 3, 6)\n",
    "# points.InsertNextPoint(7, 0, 0)\n",
    "# points.InsertNextPoint(7, 0, 13)\n",
    "# points.InsertNextPoint(7, 3, 13)\n",
    "# points.InsertNextPoint(7, 3, 0)"
   ]
  },
  {
   "cell_type": "code",
   "execution_count": 9,
   "id": "3f97bb61",
   "metadata": {},
   "outputs": [],
   "source": [
    "# Create an unstructured grid from the points\n",
    "# grid = vtk.vtkUnstructuredGrid()\n",
    "# grid.SetPoints(points)"
   ]
  },
  {
   "cell_type": "code",
   "execution_count": 10,
   "id": "6130531d",
   "metadata": {},
   "outputs": [],
   "source": [
    "# Use the GPU tessellator to create a Delaunay triangulation\n",
    "# tessellator = vtkGPUUnstructuredGridTessellator()\n",
    "# tessellator.SetInputData(grid)\n",
    "# tessellator.Update()"
   ]
  },
  {
   "cell_type": "code",
   "execution_count": 11,
   "id": "0f0dba4b",
   "metadata": {},
   "outputs": [],
   "source": [
    "# # Create a point source and set its parameters\n",
    "# point_source = vtk.vtkPointSource()\n",
    "# point_source.SetNumberOfPoints(points.GetNumberOfPoints())\n",
    "# point_source.SetCenter(0, 0, 0)\n",
    "# point_source.SetRadius(1.0)"
   ]
  },
  {
   "cell_type": "code",
   "execution_count": 12,
   "id": "e25e5ed9",
   "metadata": {},
   "outputs": [],
   "source": [
    "# # Set the custom points as the output of the point source\n",
    "# point_source.Update()\n",
    "# point_source.GetOutput().GetPoints().DeepCopy(points)"
   ]
  },
  {
   "cell_type": "code",
   "execution_count": 13,
   "id": "d174ca24",
   "metadata": {},
   "outputs": [],
   "source": [
    "def build_vtkPointSource_from_vtkPoints(vtkPoints):\n",
    "    point_source = vtk.vtkPointSource()\n",
    "    point_source.SetNumberOfPoints(vtkPoints.GetNumberOfPoints())\n",
    "    point_source.SetCenter(0, 0, 0)\n",
    "    point_source.SetRadius(1.0)\n",
    "    point_source.Update()\n",
    "    point_source.GetOutput().GetPoints().DeepCopy(vtkPoints)\n",
    "    return point_source"
   ]
  },
  {
   "cell_type": "code",
   "execution_count": 14,
   "id": "c23ab621",
   "metadata": {},
   "outputs": [],
   "source": [
    "# # Use a Delaunay3D filter to generate a mesh from the points\n",
    "# delaunay = vtk.vtkDelaunay3D()\n",
    "# delaunay.SetInputData(point_source.GetOutput())\n",
    "# delaunay.Update()"
   ]
  },
  {
   "cell_type": "code",
   "execution_count": 15,
   "id": "d01e02f2",
   "metadata": {},
   "outputs": [],
   "source": [
    "# # Convert to a geometric filter\n",
    "# geom_filter = vtk.vtkGeometryFilter()\n",
    "# geom_filter.SetInputConnection(delaunay.GetOutputPort())\n",
    "# geom_filter.Update()"
   ]
  },
  {
   "cell_type": "code",
   "execution_count": 16,
   "id": "bca7cb7d",
   "metadata": {},
   "outputs": [],
   "source": [
    "def getDelaunayFromPointSource(point_source):\n",
    "    delaunay = vtk.vtkDelaunay3D()\n",
    "    delaunay.SetInputData(point_source.GetOutput())\n",
    "    delaunay.Update()\n",
    "    return delaunay"
   ]
  },
  {
   "cell_type": "code",
   "execution_count": 17,
   "id": "3cacb94b",
   "metadata": {},
   "outputs": [],
   "source": [
    "def getGeomFilterFromDelaunay(delaunay):\n",
    "    geom_filter = vtk.vtkGeometryFilter()\n",
    "    geom_filter.SetInputConnection(delaunay.GetOutputPort())\n",
    "    geom_filter.Update()\n",
    "    return geom_filter"
   ]
  },
  {
   "cell_type": "code",
   "execution_count": 18,
   "id": "ad4e7848",
   "metadata": {},
   "outputs": [],
   "source": [
    "# # Create a mapper and actor for the mesh\n",
    "# mapper = vtk.vtkPolyDataMapper()\n",
    "# # mapper.SetInputData(point_source.GetOutput())\n",
    "# mapper.SetInputData(geom_filter.GetOutput())\n",
    "# actor = vtk.vtkActor()\n",
    "# actor.SetMapper(mapper)"
   ]
  },
  {
   "cell_type": "code",
   "execution_count": 19,
   "id": "ea38a8d2",
   "metadata": {},
   "outputs": [],
   "source": [
    "def buildActor(geom_filter):\n",
    "    # Create a mapper and actor for the mesh\n",
    "    mapper = vtk.vtkPolyDataMapper()\n",
    "    # mapper.SetInputData(point_source.GetOutput())\n",
    "    mapper.SetInputData(geom_filter.GetOutput())\n",
    "    actor = vtk.vtkActor()\n",
    "    actor.SetMapper(mapper)\n",
    "    return actor"
   ]
  },
  {
   "cell_type": "code",
   "execution_count": 20,
   "id": "a761bfa1",
   "metadata": {},
   "outputs": [],
   "source": [
    "# Z = X[0:5]\n",
    "# pointsList = gen_points_sample(Z, 0)\n",
    "# vtkPoints = get_vtkPoints_instance(pointsList)\n",
    "# vtkPS = build_vtkPointSource_from_vtkPoints(vtkPoints)\n",
    "# delaunay = getDelaunayFromPointSource(vtkPS)\n",
    "# gf = getGeomFilterFromDelaunay(delaunay)\n",
    "# actor = buildActor(gf)\n",
    "\n",
    "# Z = X[350:355]\n",
    "# pointsList = gen_points_sample(Z, 350)\n",
    "# vtkPoints = get_vtkPoints_instance(pointsList)\n",
    "# vtkPS = build_vtkPointSource_from_vtkPoints(vtkPoints)\n",
    "# delaunay = getDelaunayFromPointSource(vtkPS)\n",
    "# gf = getGeomFilterFromDelaunay(delaunay)\n",
    "# actor1 = buildActor(gf)"
   ]
  },
  {
   "cell_type": "code",
   "execution_count": 21,
   "id": "b8c3cd92",
   "metadata": {},
   "outputs": [],
   "source": [
    "if len([]):\n",
    "    print(\"OK\")"
   ]
  },
  {
   "cell_type": "code",
   "execution_count": 22,
   "id": "88ee0b68",
   "metadata": {},
   "outputs": [
    {
     "name": "stdout",
     "output_type": "stream",
     "text": [
      "224\n",
      "449\n",
      "No points at index  212\n",
      "No points at index  213\n",
      "No points at index  214\n",
      "No points at index  215\n",
      "No points at index  216\n",
      "No points at index  217\n",
      "No points at index  224\n"
     ]
    }
   ],
   "source": [
    "slice_len = 2\n",
    "renderer = vtk.vtkRenderer()\n",
    "print(X.shape[0] // slice_len)\n",
    "print(X.shape[0])\n",
    "for i in range(X.shape[0] // slice_len + 1):\n",
    "# for i in range(86):\n",
    "    k = min(X.shape[0] - 1, slice_len*(i+1))\n",
    "    Z = X[slice_len*i:k]\n",
    "    pointsList = gen_points_sample(Z, slice_len*i)\n",
    "#     print(i)\n",
    "    if not len(pointsList):\n",
    "        print(\"No points at index \", i)\n",
    "    else:\n",
    "        vtkPoints = get_vtkPoints_instance(pointsList)\n",
    "        vtkPS = build_vtkPointSource_from_vtkPoints(vtkPoints)\n",
    "        delaunay = getDelaunayFromPointSource(vtkPS)\n",
    "        gf = getGeomFilterFromDelaunay(delaunay)\n",
    "        actor = buildActor(gf)\n",
    "        renderer.AddActor(actor)"
   ]
  },
  {
   "cell_type": "code",
   "execution_count": 23,
   "id": "7a06d464",
   "metadata": {},
   "outputs": [
    {
     "name": "stdout",
     "output_type": "stream",
     "text": [
      "0\n",
      "1\n",
      "2\n",
      "3\n",
      "4\n",
      "5\n",
      "6\n",
      "7\n",
      "8\n",
      "9\n"
     ]
    }
   ],
   "source": [
    "for i in range(10):\n",
    "    print(i)"
   ]
  },
  {
   "cell_type": "code",
   "execution_count": 24,
   "id": "491efa40",
   "metadata": {},
   "outputs": [],
   "source": [
    "# Create a renderer and add the actor to it\n",
    "# renderer = vtk.vtkRenderer()\n",
    "# renderer.AddActor(actor)\n",
    "# renderer.AddActor(actor1)"
   ]
  },
  {
   "cell_type": "code",
   "execution_count": 25,
   "id": "361d9ef9",
   "metadata": {},
   "outputs": [],
   "source": [
    "# Create a render window and set its size\n",
    "render_window = vtk.vtkRenderWindow()\n",
    "render_window.SetSize(600, 600)"
   ]
  },
  {
   "cell_type": "code",
   "execution_count": 26,
   "id": "48e18617",
   "metadata": {},
   "outputs": [],
   "source": [
    "# Add the renderer to the render window\n",
    "render_window.AddRenderer(renderer)\n",
    "\n",
    "# Create an interactor and start the render loop\n",
    "interactor = vtk.vtkRenderWindowInteractor()\n",
    "interactor.SetRenderWindow(render_window)\n",
    "interactor.Initialize()\n",
    "interactor.Start()"
   ]
  },
  {
   "cell_type": "code",
   "execution_count": null,
   "id": "17575d89",
   "metadata": {},
   "outputs": [],
   "source": []
  }
 ],
 "metadata": {
  "kernelspec": {
   "display_name": "Python [conda env:vtk] *",
   "language": "python",
   "name": "conda-env-vtk-py"
  },
  "language_info": {
   "codemirror_mode": {
    "name": "ipython",
    "version": 3
   },
   "file_extension": ".py",
   "mimetype": "text/x-python",
   "name": "python",
   "nbconvert_exporter": "python",
   "pygments_lexer": "ipython3",
   "version": "3.11.0"
  }
 },
 "nbformat": 4,
 "nbformat_minor": 5
}

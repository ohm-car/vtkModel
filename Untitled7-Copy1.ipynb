{
 "cells": [
  {
   "cell_type": "code",
   "execution_count": 1,
   "id": "945dc754",
   "metadata": {},
   "outputs": [],
   "source": [
    "import vtk\n",
    "import numpy as np"
   ]
  },
  {
   "cell_type": "code",
   "execution_count": 2,
   "id": "711c47a2",
   "metadata": {},
   "outputs": [
    {
     "name": "stdout",
     "output_type": "stream",
     "text": [
      "(449, 384, 384, 1) 66207744 (5, 384, 384) 737280\n",
      "55716\n",
      "[[0, 70, 220], [0, 70, 221], [0, 70, 222], [0, 70, 223], [0, 70, 224]]\n"
     ]
    }
   ],
   "source": [
    "X = np.load('MasksForPlot.npy')\n",
    "# Y = X[:,:,:,0]\n",
    "Y = X[0:5,:,:,0]\n",
    "Ys = np.argwhere(Y*1)\n",
    "print(X.shape, X.size, Y.shape, Y.size)\n",
    "print(len(Ys.tolist()))\n",
    "print(Ys.tolist()[0:5])"
   ]
  },
  {
   "cell_type": "code",
   "execution_count": 3,
   "id": "b56a0450",
   "metadata": {},
   "outputs": [],
   "source": [
    "# def gen_points_sample():\n",
    "    \n",
    "#     pt = list()\n",
    "    \n",
    "#     for i in range(3,8):\n",
    "#         for j in range(3,8):\n",
    "#             for k in range(3,8):\n",
    "#                 pt.append([i, j, k])\n",
    "#     return pt"
   ]
  },
  {
   "cell_type": "code",
   "execution_count": 4,
   "id": "a546e9ef",
   "metadata": {},
   "outputs": [],
   "source": [
    "def gen_points_sample():\n",
    "    \n",
    "    Pts = list()\n",
    "    \n",
    "    for img in Y:\n",
    "        pts = np.argwhere(img*1)\n",
    "        Pts.append(pts)\n",
    "    return Pts"
   ]
  },
  {
   "cell_type": "code",
   "execution_count": 5,
   "id": "0f63ab31",
   "metadata": {},
   "outputs": [
    {
     "data": {
      "text/plain": [
       "17529"
      ]
     },
     "execution_count": 5,
     "metadata": {},
     "output_type": "execute_result"
    }
   ],
   "source": [
    "len(gen_points_sample()[4])"
   ]
  },
  {
   "cell_type": "code",
   "execution_count": null,
   "id": "c18ba7ec",
   "metadata": {},
   "outputs": [],
   "source": [
    "# points = vtk.vtkPoints()\n",
    "# print(len(gen_points_sample()))\n",
    "# for point in gen_points_sample():\n",
    "#     points.InsertNextPoint(point)"
   ]
  },
  {
   "cell_type": "code",
   "execution_count": null,
   "id": "f5ccfbe4",
   "metadata": {},
   "outputs": [],
   "source": [
    "points = vtk.vtkPoints()\n",
    "print(len(gen_points_sample()))\n",
    "for point in gen_points_sample():\n",
    "    points.InsertNextPoint(point)"
   ]
  },
  {
   "cell_type": "code",
   "execution_count": null,
   "id": "d2fe8ae2",
   "metadata": {},
   "outputs": [],
   "source": [
    "pointsList = list()\n",
    "i = 0\n",
    "for points in gen_points_sample():\n",
    "    \n",
    "    vPts = vtk.vtkPoints()\n",
    "    for pt in points:\n",
    "        vpt = pt.tolist()\n",
    "        vpt.append(i)\n",
    "        vPts.InsertNextPoint(vpt)\n",
    "    pointsList.append(vPts)\n",
    "    i += 1"
   ]
  },
  {
   "cell_type": "code",
   "execution_count": 6,
   "id": "c830efb4",
   "metadata": {},
   "outputs": [],
   "source": [
    "pointsList = list()\n",
    "i = 0\n",
    "psmpl = gen_points_sample()\n",
    "for i in range(4):\n",
    "    \n",
    "    vPts = vtk.vtkPoints()\n",
    "    for pt in psmpl[i]:\n",
    "        vpt = pt.tolist()\n",
    "        vpt.append(i)\n",
    "        vPts.InsertNextPoint(vpt)\n",
    "    for pt in psmpl[i+1]:\n",
    "        vpt = pt.tolist()\n",
    "        vpt.append(i)\n",
    "        vPts.InsertNextPoint(vpt)\n",
    "        \n",
    "    pointsList.append(vPts)\n",
    "    i += 1\n",
    "print(len(pointsList))"
   ]
  },
  {
   "cell_type": "code",
   "execution_count": null,
   "id": "1f0f29e1",
   "metadata": {},
   "outputs": [],
   "source": [
    "# # Create a list of custom points\n",
    "# points = vtk.vtkPoints()\n",
    "# points.InsertNextPoint(0, 0, 0)\n",
    "# points.InsertNextPoint(0, 3, 0)\n",
    "# points.InsertNextPoint(0, 3, 13)\n",
    "# points.InsertNextPoint(0, 3, 6)\n",
    "# points.InsertNextPoint(7, 0, 0)\n",
    "# points.InsertNextPoint(7, 0, 13)\n",
    "# points.InsertNextPoint(7, 3, 13)\n",
    "# points.InsertNextPoint(7, 3, 0)"
   ]
  },
  {
   "cell_type": "code",
   "execution_count": null,
   "id": "3f97bb61",
   "metadata": {},
   "outputs": [],
   "source": [
    "# Create an unstructured grid from the points\n",
    "grid = vtk.vtkUnstructuredGrid()\n",
    "grid.SetPoints(points)"
   ]
  },
  {
   "cell_type": "code",
   "execution_count": null,
   "id": "6130531d",
   "metadata": {},
   "outputs": [],
   "source": [
    "# Use the GPU tessellator to create a Delaunay triangulation\n",
    "# tessellator = vtkGPUUnstructuredGridTessellator()\n",
    "# tessellator.SetInputData(grid)\n",
    "# tessellator.Update()"
   ]
  },
  {
   "cell_type": "code",
   "execution_count": null,
   "id": "0f0dba4b",
   "metadata": {},
   "outputs": [],
   "source": [
    "# Create a point source and set its parameters\n",
    "point_source = vtk.vtkPointSource()\n",
    "point_source.SetNumberOfPoints(points.GetNumberOfPoints())\n",
    "point_source.SetCenter(0, 0, 0)\n",
    "point_source.SetRadius(1.0)"
   ]
  },
  {
   "cell_type": "code",
   "execution_count": 7,
   "id": "274893b9",
   "metadata": {},
   "outputs": [],
   "source": [
    "pointSources = list()\n",
    "for vtkpts in pointsList:\n",
    "    point_source = vtk.vtkPointSource()\n",
    "    point_source.SetNumberOfPoints(vtkpts.GetNumberOfPoints())\n",
    "    point_source.SetCenter(0, 0, 0)\n",
    "    point_source.SetRadius(1.0)\n",
    "# Set the custom points as the output of the point source\n",
    "    point_source.Update()\n",
    "    point_source.GetOutput().GetPoints().DeepCopy(vtkpts)\n",
    "    pointSources.append(point_source)"
   ]
  },
  {
   "cell_type": "code",
   "execution_count": null,
   "id": "e25e5ed9",
   "metadata": {},
   "outputs": [],
   "source": [
    "# Set the custom points as the output of the point source\n",
    "point_source.Update()\n",
    "point_source.GetOutput().GetPoints().DeepCopy(points)"
   ]
  },
  {
   "cell_type": "code",
   "execution_count": null,
   "id": "c23ab621",
   "metadata": {},
   "outputs": [],
   "source": [
    "# Use a Delaunay3D filter to generate a mesh from the points\n",
    "delaunay = vtk.vtkDelaunay3D()\n",
    "delaunay.SetInputData(point_source.GetOutput())\n",
    "delaunay.Update()"
   ]
  },
  {
   "cell_type": "code",
   "execution_count": null,
   "id": "d01e02f2",
   "metadata": {},
   "outputs": [],
   "source": [
    "# Convert to a geometric filter\n",
    "geom_filter = vtk.vtkGeometryFilter()\n",
    "geom_filter.SetInputConnection(delaunay.GetOutputPort())\n",
    "geom_filter.Update()"
   ]
  },
  {
   "cell_type": "code",
   "execution_count": 8,
   "id": "668f53cd",
   "metadata": {},
   "outputs": [
    {
     "name": "stderr",
     "output_type": "stream",
     "text": [
      "\u001b[0m\u001b[33m2023-02-23 18:26:41.443 (  86.896s) [        8B4D8740]      vtkDelaunay3D.cxx:518   WARN| vtkDelaunay3D (0x558d49292210): 6 degenerate triangles encountered, mesh quality suspect\u001b[0m\n"
     ]
    },
    {
     "name": "stdout",
     "output_type": "stream",
     "text": [
      "Executed 1x\n",
      "Executed 1x\n",
      "Executed 1x\n"
     ]
    },
    {
     "name": "stderr",
     "output_type": "stream",
     "text": [
      "\u001b[0m\u001b[33m2023-02-23 18:27:57.554 ( 163.008s) [        8B4D8740]      vtkDelaunay3D.cxx:518   WARN| vtkDelaunay3D (0x558d49d46390): 1 degenerate triangles encountered, mesh quality suspect\u001b[0m\n"
     ]
    },
    {
     "name": "stdout",
     "output_type": "stream",
     "text": [
      "Executed 1x\n"
     ]
    }
   ],
   "source": [
    "delaunayGeomFilters = list()\n",
    "for ptsrc in pointSources:\n",
    "    delaunay = vtk.vtkDelaunay3D()\n",
    "    delaunay.SetInputData(ptsrc.GetOutput())\n",
    "    delaunay.Update()\n",
    "    \n",
    "    geom_filter = vtk.vtkGeometryFilter()\n",
    "    geom_filter.SetInputConnection(delaunay.GetOutputPort())\n",
    "    geom_filter.Update()\n",
    "    \n",
    "    delaunayGeomFilters.append(geom_filter)\n",
    "    print(\"Executed 1x\")"
   ]
  },
  {
   "cell_type": "code",
   "execution_count": null,
   "id": "ad4e7848",
   "metadata": {},
   "outputs": [],
   "source": [
    "# Create a mapper and actor for the mesh\n",
    "mapper = vtk.vtkPolyDataMapper()\n",
    "# mapper.SetInputData(point_source.GetOutput())\n",
    "mapper.SetInputData(geom_filter.GetOutput())\n",
    "actor = vtk.vtkActor()\n",
    "actor.SetMapper(mapper)"
   ]
  },
  {
   "cell_type": "code",
   "execution_count": 9,
   "id": "9ed7abf7",
   "metadata": {},
   "outputs": [],
   "source": [
    "actors = list()\n",
    "for gfilts in delaunayGeomFilters:\n",
    "    mapper = vtk.vtkPolyDataMapper()\n",
    "    mapper.SetInputData(gfilts.GetOutput())\n",
    "    actor = vtk.vtkActor()\n",
    "    actor.SetMapper(mapper)\n",
    "    \n",
    "    actors.append(actor)"
   ]
  },
  {
   "cell_type": "code",
   "execution_count": null,
   "id": "491efa40",
   "metadata": {},
   "outputs": [],
   "source": [
    "# Create a renderer and add the actor to it\n",
    "renderer = vtk.vtkRenderer()\n",
    "renderer.AddActor(actor)"
   ]
  },
  {
   "cell_type": "code",
   "execution_count": 10,
   "id": "c03408a3",
   "metadata": {},
   "outputs": [],
   "source": [
    "renderer = vtk.vtkRenderer()\n",
    "for actor in actors:\n",
    "    renderer.AddActor(actor)"
   ]
  },
  {
   "cell_type": "code",
   "execution_count": 11,
   "id": "361d9ef9",
   "metadata": {},
   "outputs": [],
   "source": [
    "# Create a render window and set its size\n",
    "render_window = vtk.vtkRenderWindow()\n",
    "render_window.SetSize(600, 600)"
   ]
  },
  {
   "cell_type": "code",
   "execution_count": 12,
   "id": "48e18617",
   "metadata": {},
   "outputs": [],
   "source": [
    "# Add the renderer to the render window\n",
    "render_window.AddRenderer(renderer)\n",
    "\n",
    "# Create an interactor and start the render loop\n",
    "interactor = vtk.vtkRenderWindowInteractor()\n",
    "interactor.SetRenderWindow(render_window)\n",
    "interactor.Initialize()\n",
    "interactor.Start()"
   ]
  },
  {
   "cell_type": "code",
   "execution_count": null,
   "id": "17575d89",
   "metadata": {},
   "outputs": [],
   "source": []
  }
 ],
 "metadata": {
  "kernelspec": {
   "display_name": "Python [conda env:vtk] *",
   "language": "python",
   "name": "conda-env-vtk-py"
  },
  "language_info": {
   "codemirror_mode": {
    "name": "ipython",
    "version": 3
   },
   "file_extension": ".py",
   "mimetype": "text/x-python",
   "name": "python",
   "nbconvert_exporter": "python",
   "pygments_lexer": "ipython3",
   "version": "3.11.0"
  }
 },
 "nbformat": 4,
 "nbformat_minor": 5
}

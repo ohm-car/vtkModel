{
 "cells": [
  {
   "cell_type": "code",
   "execution_count": 1,
   "id": "7873af83",
   "metadata": {},
   "outputs": [],
   "source": [
    "import vtk\n",
    "import numpy as np"
   ]
  },
  {
   "cell_type": "code",
   "execution_count": 2,
   "id": "6a0d7485",
   "metadata": {},
   "outputs": [],
   "source": [
    "def getXYsFromMask(mask):\n",
    "    \n",
    "    xys = np.argwhere(mask == True)\n",
    "    return xys, xys[:,0], xys[:,1]\n",
    "\n",
    "def genPointsFromNPArray(A, sequence):\n",
    "    \n",
    "    z = 0\n",
    "    points = list()\n",
    "    for i in sequence:\n",
    "        \n",
    "        frame = A[i]\n",
    "        \n",
    "        xys = getXYsFromMask(frame)[0]\n",
    "        \n",
    "        for xy in xys:\n",
    "            pt = xy.tolist()\n",
    "            pt.append(z)\n",
    "            points.append(pt)\n",
    "        \n",
    "        z += 1\n",
    "    return points"
   ]
  },
  {
   "cell_type": "code",
   "execution_count": 3,
   "id": "0c0ef35d",
   "metadata": {},
   "outputs": [
    {
     "name": "stdout",
     "output_type": "stream",
     "text": [
      "(449, 32, 32)\n"
     ]
    }
   ],
   "source": [
    "mask = np.load('masksFinal.npy')\n",
    "print(mask.shape)"
   ]
  },
  {
   "cell_type": "code",
   "execution_count": 4,
   "id": "47011254",
   "metadata": {},
   "outputs": [],
   "source": [
    "seq = [0, 1, 2, 13, 24, 35, 46, 57, 68, 79, 90, 101, 112, 113, 124, 135, 146, 157, 223, 334, 394, 405, 416, 427, 438, 3, 4, 5, 6, 7, 8, 9, 250, 251, 252, 253, 254, 255, 256, 258, 259, 260, 261, 262, 263, 264, 410, 411, 412, 413, 414, 415, 417, 10, 11, 12, 14, 15, 16, 17, 18, 19, 20, 21, 22, 23, 25, 226, 227, 228, 229, 230, 231, 232, 233, 234, 236, 237, 238, 239, 240, 241, 242, 243, 244, 245, 247, 248, 249, 26, 27, 28, 29, 30, 31, 32, 33, 34, 36, 37, 38, 39, 40, 41, 42, 43, 44, 45, 47, 48, 49, 191, 192, 193, 194, 195, 196, 197, 198, 199, 200, 202, 203, 204, 205, 206, 207, 208, 209, 210, 397, 398, 399, 400, 401, 402, 403, 404, 406, 407, 408, 409, 50, 51, 52, 53, 54, 55, 56, 58, 59, 60, 61, 62, 63, 64, 65, 66, 67, 69, 70, 164, 165, 166, 167, 169, 170, 171, 172, 173, 174, 175, 176, 177, 178, 180, 181, 182, 183, 184, 185, 186, 187, 188, 189, 103, 104, 105, 106, 107, 108, 109, 110, 111, 114, 115, 116, 117, 118, 119, 120, 121, 122, 123, 125, 126, 345, 347, 348, 349, 350, 351, 352, 353, 354, 355, 356, 358, 359, 360, 361, 362, 363, 364, 365, 366, 367, 369, 370, 371, 89, 91, 92, 93, 94, 95, 96, 97, 98, 99, 100, 102, 127, 128, 129, 130, 131, 132, 133, 134, 136, 137, 138, 139, 140, 141, 142, 143, 144, 145, 147, 148, 149, 150, 151, 152, 153, 154, 155, 156, 158, 159, 160, 161, 162, 163, 282, 283, 284, 285, 286, 287, 288, 289, 291, 292, 293, 294, 295, 296, 297, 298, 299, 300, 302, 303, 304, 305, 306, 307, 308, 309, 310, 311, 313, 314, 315, 316, 317, 318, 319, 320, 321, 322, 324, 325, 372, 373, 374, 375, 376, 377, 378, 380, 381, 382, 383, 384, 385, 386, 387, 388, 418, 419, 420, 421, 422, 423, 424, 425, 426, 428, 429, 430, 431, 432, 433, 434, 435, 436, 437, 439, 440, 441, 442, 443, 444, 445, 446, 447, 448, 71, 72, 73, 74, 75, 76, 77, 78, 80, 81, 82, 83, 84, 85, 86, 87, 88, 326, 327, 328, 329, 330, 331, 332, 333, 336, 337, 338, 339, 340, 341, 342, 343, 344, 168, 179, 190, 201, 212, 224, 235, 246, 257, 268, 279, 290, 301, 312, 323, 335, 346, 357, 368, 379, 389, 390, 391, 392, 393, 395, 396, 211, 213, 214, 215, 216, 217, 218, 219, 220, 221, 222, 225, 265, 266, 267, 269, 270, 271, 272, 273, 274, 275, 276, 277, 278, 280, 281]"
   ]
  },
  {
   "cell_type": "code",
   "execution_count": 5,
   "id": "d362c48f",
   "metadata": {},
   "outputs": [
    {
     "data": {
      "text/plain": [
       "[]"
      ]
     },
     "execution_count": 5,
     "metadata": {},
     "output_type": "execute_result"
    }
   ],
   "source": [
    "genPointsFromNPArray(mask, seq)"
   ]
  },
  {
   "cell_type": "code",
   "execution_count": 6,
   "id": "1878603c",
   "metadata": {},
   "outputs": [
    {
     "name": "stdout",
     "output_type": "stream",
     "text": [
      "[[[False False False ... False False False]\n",
      "  [False False False ... False False False]\n",
      "  [False False False ... False False False]\n",
      "  ...\n",
      "  [False False False ... False False False]\n",
      "  [False False False ... False False False]\n",
      "  [False False False ... False False False]]\n",
      "\n",
      " [[False False False ... False False False]\n",
      "  [False False False ... False False False]\n",
      "  [False False False ... False False False]\n",
      "  ...\n",
      "  [False False False ... False False False]\n",
      "  [False False False ... False False False]\n",
      "  [False False False ... False False False]]\n",
      "\n",
      " [[False False False ... False False False]\n",
      "  [False False False ... False False False]\n",
      "  [False False False ... False False False]\n",
      "  ...\n",
      "  [False False False ... False False False]\n",
      "  [False False False ... False False False]\n",
      "  [False False False ... False False False]]\n",
      "\n",
      " ...\n",
      "\n",
      " [[False False False ... False False False]\n",
      "  [False False False ... False False False]\n",
      "  [False False False ... False False False]\n",
      "  ...\n",
      "  [False False False ... False False False]\n",
      "  [False False False ... False False False]\n",
      "  [False False False ... False False False]]\n",
      "\n",
      " [[False False False ... False False False]\n",
      "  [False False False ... False False False]\n",
      "  [False False False ... False False False]\n",
      "  ...\n",
      "  [False False False ... False False False]\n",
      "  [False False False ... False False False]\n",
      "  [False False False ... False False False]]\n",
      "\n",
      " [[False False False ... False False False]\n",
      "  [False False False ... False False False]\n",
      "  [False False False ... False False False]\n",
      "  ...\n",
      "  [False False False ... False False False]\n",
      "  [False False False ... False False False]\n",
      "  [False False False ... False False False]]]\n"
     ]
    }
   ],
   "source": [
    "print(mask)"
   ]
  },
  {
   "cell_type": "code",
   "execution_count": null,
   "id": "993e84b6",
   "metadata": {},
   "outputs": [],
   "source": [
    "\n",
    "\n",
    "# Create the vtkPoints object and add some points to it\n",
    "points = vtk.vtkPoints()\n",
    "\n",
    "for point in genPointsFromNPArray(mask, seq):\n",
    "    points.InsertNextPoint(point)\n",
    "\n",
    "# points.InsertNextPoint(0, 0, 0)\n",
    "# points.InsertNextPoint(1, 1, 1)\n",
    "# points.InsertNextPoint(2, 3, 4)\n",
    "\n",
    "# Create the vtkPolyData object and set the points\n",
    "polydata = vtk.vtkPolyData()\n",
    "polydata.SetPoints(points)\n",
    "\n",
    "# Create the vtkGlyph3D object to represent the points as spheres\n",
    "sphereSource = vtk.vtkSphereSource()\n",
    "sphereSource.SetRadius(0.1)\n",
    "glyph3D = vtk.vtkGlyph3D()\n",
    "glyph3D.SetSourceConnection(sphereSource.GetOutputPort())\n",
    "glyph3D.SetInputData(polydata)\n",
    "glyph3D.Update()\n",
    "\n",
    "# Create the vtkPolyDataMapper object and set the input to the glyph output\n",
    "mapper = vtk.vtkPolyDataMapper()\n",
    "mapper.SetInputConnection(glyph3D.GetOutputPort())\n",
    "\n",
    "# Create the vtkActor object and set the mapper\n",
    "actor = vtk.vtkActor()\n",
    "actor.SetMapper(mapper)\n",
    "\n",
    "# Create the vtkRenderer and vtkRenderWindow objects\n",
    "renderer = vtk.vtkRenderer()\n",
    "renderer.AddActor(actor)\n",
    "renderWindow = vtk.vtkRenderWindow()\n",
    "renderWindow.AddRenderer(renderer)\n",
    "\n",
    "# Create the vtkRenderWindowInteractor and start the interactor\n",
    "interactor = vtk.vtkRenderWindowInteractor()\n",
    "interactor.SetRenderWindow(renderWindow)\n",
    "interactor.Start()\n"
   ]
  },
  {
   "cell_type": "code",
   "execution_count": null,
   "id": "ee2f7569",
   "metadata": {},
   "outputs": [],
   "source": []
  }
 ],
 "metadata": {
  "kernelspec": {
   "display_name": "Python 3 (ipykernel)",
   "language": "python",
   "name": "python3"
  },
  "language_info": {
   "codemirror_mode": {
    "name": "ipython",
    "version": 3
   },
   "file_extension": ".py",
   "mimetype": "text/x-python",
   "name": "python",
   "nbconvert_exporter": "python",
   "pygments_lexer": "ipython3",
   "version": "3.10.9"
  }
 },
 "nbformat": 4,
 "nbformat_minor": 5
}

{
 "cells": [
  {
   "cell_type": "code",
   "execution_count": 33,
   "id": "db55cb42",
   "metadata": {},
   "outputs": [],
   "source": [
    "import vtk\n",
    "import numpy as np\n",
    "\n",
    "# Generate sample points\n",
    "points = np.array([\n",
    "    [0, 0, 0],\n",
    "    [1, 1, 0],\n",
    "    [2, 1, 2],\n",
    "    [4, 2, 4],\n",
    "    [6, 3, 3],\n",
    "    [8, 1, 2],\n",
    "    [10, 10, 0]\n",
    "])\n",
    "\n",
    "# Create a vtkPoints object to store the input points\n",
    "vtk_points = vtk.vtkPoints()\n",
    "# vtk_points.SetData(vtk.vtkFloatArray.FromArray(points, -1))\n",
    "\n",
    "pointsList = points.tolist()\n",
    "for point in pointsList:\n",
    "    vtk_points.InsertNextPoint(point)\n",
    "\n",
    "# Create a vtkParametricSpline object to generate a smooth curve\n",
    "spline = vtk.vtkParametricSpline()\n",
    "spline.SetPoints(vtk_points)\n",
    "\n",
    "# Create a vtkParametricFunctionSource object to create a surface of revolution\n",
    "surface_source = vtk.vtkParametricFunctionSource()\n",
    "surface_source.SetParametricFunction(spline)\n",
    "surface_source.SetUResolution(100)\n",
    "surface_source.SetVResolution(20)\n",
    "surface_source.Update()\n",
    "\n",
    "# Create a vtkTubeFilter object to generate a tubular surface\n",
    "tube_filter = vtk.vtkTubeFilter()\n",
    "tube_filter.SetInputData(surface_source.GetOutput())\n",
    "tube_filter.SetRadius(0.2)\n",
    "tube_filter.SetNumberOfSides(20)\n",
    "tube_filter.Update()"
   ]
  },
  {
   "cell_type": "code",
   "execution_count": 34,
   "id": "df1693f7",
   "metadata": {},
   "outputs": [],
   "source": [
    "# Visualize the tubular surface using VTK\n",
    "mapper = vtk.vtkPolyDataMapper()\n",
    "mapper.SetInputData(tube_filter.GetOutput())\n",
    "\n",
    "actor = vtk.vtkActor()\n",
    "actor.SetMapper(mapper)\n",
    "\n",
    "renderer = vtk.vtkRenderer()\n",
    "renderer.AddActor(actor)\n",
    "\n",
    "render_window = vtk.vtkRenderWindow()\n",
    "render_window.AddRenderer(renderer)\n",
    "\n",
    "interactor = vtk.vtkRenderWindowInteractor()\n",
    "interactor.SetRenderWindow(render_window)\n",
    "\n",
    "render_window.Render()\n",
    "interactor.Start()\n"
   ]
  },
  {
   "cell_type": "code",
   "execution_count": null,
   "id": "89e4c8c4",
   "metadata": {},
   "outputs": [],
   "source": []
  }
 ],
 "metadata": {
  "kernelspec": {
   "display_name": "Python [conda env:vtk] *",
   "language": "python",
   "name": "conda-env-vtk-py"
  },
  "language_info": {
   "codemirror_mode": {
    "name": "ipython",
    "version": 3
   },
   "file_extension": ".py",
   "mimetype": "text/x-python",
   "name": "python",
   "nbconvert_exporter": "python",
   "pygments_lexer": "ipython3",
   "version": "3.11.0"
  }
 },
 "nbformat": 4,
 "nbformat_minor": 5
}

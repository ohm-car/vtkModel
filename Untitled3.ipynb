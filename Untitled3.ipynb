{
 "cells": [
  {
   "cell_type": "code",
   "execution_count": 1,
   "id": "883d7786",
   "metadata": {},
   "outputs": [],
   "source": [
    "#!/usr/bin/env python\n",
    "\n",
    "# noinspection PyUnresolvedReferences\n",
    "import vtkmodules.vtkInteractionStyle\n",
    "# noinspection PyUnresolvedReferences\n",
    "import vtkmodules.vtkRenderingOpenGL2\n",
    "from vtkmodules.vtkCommonColor import vtkNamedColors\n",
    "from vtkmodules.vtkFiltersSources import vtkPointSource\n",
    "from vtkmodules.vtkRenderingCore import (\n",
    "    vtkActor,\n",
    "    vtkPolyDataMapper,\n",
    "    vtkRenderWindow,\n",
    "    vtkRenderWindowInteractor,\n",
    "    vtkRenderer\n",
    ")\n",
    "import vtk\n",
    "import numpy as np"
   ]
  },
  {
   "cell_type": "code",
   "execution_count": 2,
   "id": "96819005",
   "metadata": {},
   "outputs": [],
   "source": [
    "def gen_points():\n",
    "    \n",
    "    pt = list()\n",
    "    \n",
    "    for i in range(3,8):\n",
    "        for j in range(3,8):\n",
    "            for k in range(3,8):\n",
    "                pt.append([i, j, k])\n",
    "    return pt"
   ]
  },
  {
   "cell_type": "code",
   "execution_count": 4,
   "id": "bdae1b23",
   "metadata": {},
   "outputs": [],
   "source": [
    "def main():\n",
    "    colors = vtkNamedColors()\n",
    "\n",
    "    # create a rendering window and renderer\n",
    "    ren = vtkRenderer()\n",
    "    renWin = vtkRenderWindow()\n",
    "    renWin.AddRenderer(ren)\n",
    "    renWin.SetWindowName('PointSource')\n",
    "\n",
    "    # create a renderwindowinteractor\n",
    "    iren = vtkRenderWindowInteractor()\n",
    "    iren.SetRenderWindow(renWin)\n",
    "\n",
    "    # Create a point cloud\n",
    "    points = vtk.vtkPoints()\n",
    "    for point in gen_points():\n",
    "        points.InsertNextPoint(point)\n",
    "    \n",
    "    src = vtkPointSource()\n",
    "    src.SetCenter(0, 0, 0)\n",
    "    src.SetNumberOfPoints(50)\n",
    "    src.SetRadius(5)\n",
    "    src.Update()\n",
    "\n",
    "    # mapper\n",
    "    mapper = vtkPolyDataMapper()\n",
    "    mapper.SetInputConnection(src.GetOutputPort())\n",
    "#     mapper.SetInputConnection(points.GetOutputPort())\n",
    "\n",
    "    # actor\n",
    "    actor = vtkActor()\n",
    "    actor.SetMapper(mapper)\n",
    "    actor.GetProperty().SetColor(colors.GetColor3d('Tomato'))\n",
    "    actor.GetProperty().SetPointSize(4)\n",
    "\n",
    "    # assign actor to the renderer\n",
    "    ren.AddActor(actor)\n",
    "    ren.SetBackground(colors.GetColor3d('DarkGreen'))\n",
    "\n",
    "    # enable user interface interactor\n",
    "    iren.Initialize()\n",
    "    renWin.Render()\n",
    "    iren.Start()\n",
    "\n",
    "\n",
    "if __name__ == '__main__':\n",
    "    main()\n"
   ]
  },
  {
   "cell_type": "code",
   "execution_count": null,
   "id": "b8ac65c9",
   "metadata": {},
   "outputs": [],
   "source": []
  },
  {
   "cell_type": "code",
   "execution_count": null,
   "id": "1d67cc4c",
   "metadata": {},
   "outputs": [],
   "source": []
  }
 ],
 "metadata": {
  "kernelspec": {
   "display_name": "Python [conda env:vtk] *",
   "language": "python",
   "name": "conda-env-vtk-py"
  },
  "language_info": {
   "codemirror_mode": {
    "name": "ipython",
    "version": 3
   },
   "file_extension": ".py",
   "mimetype": "text/x-python",
   "name": "python",
   "nbconvert_exporter": "python",
   "pygments_lexer": "ipython3",
   "version": "3.11.0"
  }
 },
 "nbformat": 4,
 "nbformat_minor": 5
}

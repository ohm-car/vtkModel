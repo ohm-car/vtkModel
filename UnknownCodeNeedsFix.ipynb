{
 "cells": [
  {
   "cell_type": "code",
   "execution_count": 6,
   "id": "90cdd756",
   "metadata": {},
   "outputs": [],
   "source": [
    "def gen_points():\n",
    "    \n",
    "    pt = list()\n",
    "    \n",
    "    for i in range(3,8):\n",
    "        for j in range(3,8):\n",
    "            for k in range(3,8):\n",
    "                pt.append([i, j, k])\n",
    "    return pt"
   ]
  },
  {
   "cell_type": "code",
   "execution_count": 7,
   "id": "df04d4f5",
   "metadata": {},
   "outputs": [],
   "source": [
    "import vtk\n",
    "from vtkmodules.vtkCommonColor import vtkNamedColors\n",
    "\n",
    "# Create a set of sample points\n",
    "# points = vtk.vtkPoints()\n",
    "points = vtk.vtkPoints()\n",
    "for point in gen_points():\n",
    "    points.InsertNextPoint(point)\n",
    "# points.InsertNextPoint(0, 0, 0)\n",
    "# points.InsertNextPoint(1, 0, 0)\n",
    "# points.InsertNextPoint(1, 1, 0)\n",
    "# points.InsertNextPoint(0, 1, 0)\n",
    "# points.InsertNextPoint(0.5, 0.5, 1)\n",
    "\n",
    "# Create a polydata object and set its points\n",
    "polydata = vtk.vtkPolyData()\n",
    "polydata.SetPoints(points)\n",
    "\n",
    "# Create a Delaunay3D filter and set its input to the polydata\n",
    "# delaunay = vtk.vtkDelaunay3D()\n",
    "# delaunay.SetInputData(polydata)\n",
    "# delaunay.Update()\n",
    "\n",
    "# Get the output of the Delaunay3D filter\n",
    "# mesh = delaunay.GetOutput()\n",
    "\n",
    "# Create a mapper and actor for the mesh\n",
    "mapper = vtk.vtkPolyDataMapper()\n",
    "# mapper.SetInputData(mesh)\n",
    "mapper.SetInputData(polydata)\n",
    "actor = vtk.vtkActor()\n",
    "actor.SetMapper(mapper)\n",
    "actor.GetProperty().SetPointSize(4)\n",
    "colors = vtkNamedColors()\n",
    "actor.GetProperty().SetColor(colors.GetColor3d('MidnightBlue'))\n",
    "\n",
    "# Create a renderer and add the actor to it\n",
    "renderer = vtk.vtkRenderer()\n",
    "renderer.SetBackground(colors.GetColor3d('White'))\n",
    "renderer.AddActor(actor)\n",
    "\n",
    "# Create a render window and set its size\n",
    "render_window = vtk.vtkRenderWindow()\n",
    "render_window.SetSize(600, 600)\n",
    "\n",
    "# Add the renderer to the render window\n",
    "render_window.AddRenderer(renderer)\n",
    "\n",
    "# Create an interactor and start the render loop\n",
    "interactor = vtk.vtkRenderWindowInteractor()\n",
    "interactor.SetRenderWindow(render_window)\n",
    "interactor.Initialize()\n",
    "interactor.Start()\n"
   ]
  },
  {
   "cell_type": "code",
   "execution_count": null,
   "id": "c0ddd22d",
   "metadata": {},
   "outputs": [],
   "source": []
  }
 ],
 "metadata": {
  "kernelspec": {
   "display_name": "Python [conda env:vtk] *",
   "language": "python",
   "name": "conda-env-vtk-py"
  },
  "language_info": {
   "codemirror_mode": {
    "name": "ipython",
    "version": 3
   },
   "file_extension": ".py",
   "mimetype": "text/x-python",
   "name": "python",
   "nbconvert_exporter": "python",
   "pygments_lexer": "ipython3",
   "version": "3.11.0"
  }
 },
 "nbformat": 4,
 "nbformat_minor": 5
}

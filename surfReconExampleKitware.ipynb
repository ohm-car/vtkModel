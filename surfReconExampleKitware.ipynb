{
 "cells": [
  {
   "cell_type": "code",
   "execution_count": 1,
   "id": "5bc6858a",
   "metadata": {},
   "outputs": [],
   "source": [
    "#!/usr/bin/env python\n",
    "\n",
    "# This example shows how to construct a surface from a point cloud.\n",
    "# First we generate a volume using the\n",
    "# vtkSurfaceReconstructionFilter. The volume values are a distance\n",
    "# field. Once this is generated, the volume is countoured at a\n",
    "# distance value of 0.0.\n",
    "\n",
    "import os\n",
    "import string\n",
    "import numpy as np\n",
    "import vtk\n",
    "from vtk.util.misc import vtkGetDataRoot\n",
    "VTK_DATA_ROOT = vtkGetDataRoot()"
   ]
  },
  {
   "cell_type": "code",
   "execution_count": 2,
   "id": "da907b3b",
   "metadata": {},
   "outputs": [
    {
     "name": "stdout",
     "output_type": "stream",
     "text": [
      "449\n"
     ]
    }
   ],
   "source": [
    "ordering = [0, 1, 2, 13, 24, 35, 46, 57, 68, 79, 90, 101, 112, 113, 124, 135, 146, 157, 223, 334, 394, 405, 416, 427, 438, 3, 4, 5, 6, 7, 8, 9, 250, 251, 252, 253, 254, 255, 256, 258, 259, 260, 261, 262, 263, 264, 410, 411, 412, 413, 414, 415, 417, 10, 11, 12, 14, 15, 16, 17, 18, 19, 20, 21, 22, 23, 25, 226, 227, 228, 229, 230, 231, 232, 233, 234, 236, 237, 238, 239, 240, 241, 242, 243, 244, 245, 247, 248, 249, 26, 27, 28, 29, 30, 31, 32, 33, 34, 36, 37, 38, 39, 40, 41, 42, 43, 44, 45, 47, 48, 49, 191, 192, 193, 194, 195, 196, 197, 198, 199, 200, 202, 203, 204, 205, 206, 207, 208, 209, 210, 397, 398, 399, 400, 401, 402, 403, 404, 406, 407, 408, 409, 50, 51, 52, 53, 54, 55, 56, 58, 59, 60, 61, 62, 63, 64, 65, 66, 67, 69, 70, 164, 165, 166, 167, 169, 170, 171, 172, 173, 174, 175, 176, 177, 178, 180, 181, 182, 183, 184, 185, 186, 187, 188, 189, 103, 104, 105, 106, 107, 108, 109, 110, 111, 114, 115, 116, 117, 118, 119, 120, 121, 122, 123, 125, 126, 345, 347, 348, 349, 350, 351, 352, 353, 354, 355, 356, 358, 359, 360, 361, 362, 363, 364, 365, 366, 367, 369, 370, 371, 89, 91, 92, 93, 94, 95, 96, 97, 98, 99, 100, 102, 127, 128, 129, 130, 131, 132, 133, 134, 136, 137, 138, 139, 140, 141, 142, 143, 144, 145, 147, 148, 149, 150, 151, 152, 153, 154, 155, 156, 158, 159, 160, 161, 162, 163, 282, 283, 284, 285, 286, 287, 288, 289, 291, 292, 293, 294, 295, 296, 297, 298, 299, 300, 302, 303, 304, 305, 306, 307, 308, 309, 310, 311, 313, 314, 315, 316, 317, 318, 319, 320, 321, 322, 324, 325, 372, 373, 374, 375, 376, 377, 378, 380, 381, 382, 383, 384, 385, 386, 387, 388, 418, 419, 420, 421, 422, 423, 424, 425, 426, 428, 429, 430, 431, 432, 433, 434, 435, 436, 437, 439, 440, 441, 442, 443, 444, 445, 446, 447, 448, 71, 72, 73, 74, 75, 76, 77, 78, 80, 81, 82, 83, 84, 85, 86, 87, 88, 326, 327, 328, 329, 330, 331, 332, 333, 336, 337, 338, 339, 340, 341, 342, 343, 344, 168, 179, 190, 201, 212, 224, 235, 246, 257, 268, 279, 290, 301, 312, 323, 335, 346, 357, 368, 379, 389, 390, 391, 392, 393, 395, 396, 211, 213, 214, 215, 216, 217, 218, 219, 220, 221, 222, 225, 265, 266, 267, 269, 270, 271, 272, 273, 274, 275, 276, 277, 278, 280, 281]\n",
    "print(len(ordering))"
   ]
  },
  {
   "cell_type": "code",
   "execution_count": 3,
   "id": "b39e3ce8",
   "metadata": {},
   "outputs": [],
   "source": [
    "def rearrangeWithOrder(order, X):\n",
    "    \n",
    "    Z = list()\n",
    "    for e in order:\n",
    "        Z.append(X[e])\n",
    "    return np.array(Z)"
   ]
  },
  {
   "cell_type": "code",
   "execution_count": 4,
   "id": "ae54108c",
   "metadata": {},
   "outputs": [
    {
     "name": "stdout",
     "output_type": "stream",
     "text": [
      "(449, 384, 384) 66207744 (449, 384, 384) 66207744\n",
      "20738\n",
      "[[0, 114, 179], [0, 114, 180], [0, 114, 181], [0, 114, 187], [0, 114, 188]]\n"
     ]
    }
   ],
   "source": [
    "# X = np.load('MasksForPlot.npy')\n",
    "X = np.load('MasksNPYFiles/npyFiles005/masksFinalContoured.npy')\n",
    "# Y = X[:,:,:,0]\n",
    "# Y = X[0:5,:,:,0]\n",
    "# X = rearrangeWithOrder(ordering, X)\n",
    "Y = X[:,:,:]          #Set frames here\n",
    "# Y = X\n",
    "pts = np.argwhere(Y*1)\n",
    "print(X.shape, X.size, Y.shape, Y.size)\n",
    "print(len(pts.tolist()))\n",
    "print(pts.tolist()[0:5])"
   ]
  },
  {
   "cell_type": "code",
   "execution_count": null,
   "id": "13a62130",
   "metadata": {},
   "outputs": [],
   "source": []
  },
  {
   "cell_type": "code",
   "execution_count": null,
   "id": "3fdbd994",
   "metadata": {},
   "outputs": [],
   "source": []
  },
  {
   "cell_type": "code",
   "execution_count": 5,
   "id": "3b47c674",
   "metadata": {},
   "outputs": [],
   "source": [
    "# Read some points. Use a programmable filter to read them.\n",
    "pointSource = vtk.vtkProgrammableSource()\n",
    "\n",
    "def readPoints():\n",
    "    output = pointSource.GetPolyDataOutput()\n",
    "    points = vtk.vtkPoints()\n",
    "    output.SetPoints(points)\n",
    "\n",
    "    file = open(os.path.normpath(os.path.join(VTK_DATA_ROOT, \"Data/cactus.3337.pts\")))\n",
    "\n",
    "    line = file.readline()\n",
    "    while line:\n",
    "        data = line.split()\n",
    "        if data and data[0] == 'p':\n",
    "            x, y, z = float(data[1]), float(data[2]), float(data[3])\n",
    "            points.InsertNextPoint(x, y, z)\n",
    "        line = file.readline()\n",
    "        \n",
    "def gen_points():\n",
    "    output = pointSource.GetPolyDataOutput()\n",
    "    points = vtk.vtkPoints()\n",
    "    output.SetPoints(points)\n",
    "\n",
    "#     file = open(os.path.normpath(os.path.join(VTK_DATA_ROOT, \"Data/cactus.3337.pts\")))\n",
    "\n",
    "#     line = file.readline()\n",
    "    pt = pts.tolist()\n",
    "\n",
    "    for point in pt:\n",
    "#         data = line.split()\n",
    "#         if data and data[0] == 'p':\n",
    "#             x, y, z = float(data[1]), float(data[2]), float(data[3])\n",
    "        points.InsertNextPoint(point)\n",
    "#         line = file.readline()\n",
    "\n",
    "pointSource.SetExecuteMethod(gen_points)\n",
    "\n",
    "\n",
    "# Construct the surface and create isosurface.\n",
    "surf = vtk.vtkSurfaceReconstructionFilter()\n",
    "surf.SetInputConnection(pointSource.GetOutputPort())\n",
    "\n",
    "# print(type(pointSource.GetOutputPort()))\n",
    "\n",
    "# cf = vtk.vtkContourFilter()\n",
    "# cf.SetInputConnection(surf.GetOutputPort())\n",
    "# cf.SetValue(0, 0.0)\n",
    "\n",
    "# print(type(surf.GetOutputPort()))\n",
    "# Sometimes the contouring algorithm can create a volume whose gradient\n",
    "# vector and ordering of polygon (using the right hand rule) are\n",
    "# inconsistent. vtkReverseSense cures this problem.\n",
    "# reverse = vtk.vtkReverseSense()\n",
    "# reverse.SetInputConnection(cf.GetOutputPort())\n",
    "# reverse.ReverseCellsOn()\n",
    "# reverse.ReverseNormalsOn()\n",
    "\n",
    "map = vtk.vtkPolyDataMapper()\n",
    "# map.SetInputConnection(reverse.GetOutputPort())\n",
    "map.SetInputConnection(surf.GetOutputPort())\n",
    "map.ScalarVisibilityOff()\n",
    "\n",
    "surfaceActor = vtk.vtkActor()\n",
    "surfaceActor.SetMapper(map)\n",
    "surfaceActor.GetProperty().SetDiffuseColor(1.0000, 0.3882, 0.2784)\n",
    "surfaceActor.GetProperty().SetSpecularColor(1, 1, 1)\n",
    "surfaceActor.GetProperty().SetSpecular(.4)\n",
    "surfaceActor.GetProperty().SetSpecularPower(5)\n",
    "\n",
    "# Create the RenderWindow, Renderer and both Actors\n",
    "ren = vtk.vtkRenderer()\n",
    "renWin = vtk.vtkRenderWindow()\n",
    "renWin.AddRenderer(ren)\n",
    "iren = vtk.vtkRenderWindowInteractor()\n",
    "iren.SetRenderWindow(renWin)\n",
    "\n",
    "# Add the actors to the renderer, set the background and size\n",
    "ren.AddActor(surfaceActor)\n",
    "ren.SetBackground(1, 1, 1)\n",
    "renWin.SetSize(400, 400)\n",
    "ren.GetActiveCamera().SetFocalPoint(0, 0, 0)\n",
    "ren.GetActiveCamera().SetPosition(1, 0, 0)\n",
    "ren.GetActiveCamera().SetViewUp(0, 0, 1)\n",
    "ren.ResetCamera()\n",
    "ren.GetActiveCamera().Azimuth(20)\n",
    "ren.GetActiveCamera().Elevation(30)\n",
    "ren.GetActiveCamera().Dolly(1.2)\n",
    "ren.ResetCameraClippingRange()\n",
    "\n",
    "iren.Initialize()\n",
    "renWin.Render()\n",
    "iren.Start()\n"
   ]
  }
 ],
 "metadata": {
  "kernelspec": {
   "display_name": "Python [conda env:vtk] *",
   "language": "python",
   "name": "conda-env-vtk-py"
  },
  "language_info": {
   "codemirror_mode": {
    "name": "ipython",
    "version": 3
   },
   "file_extension": ".py",
   "mimetype": "text/x-python",
   "name": "python",
   "nbconvert_exporter": "python",
   "pygments_lexer": "ipython3",
   "version": "3.11.0"
  }
 },
 "nbformat": 4,
 "nbformat_minor": 5
}

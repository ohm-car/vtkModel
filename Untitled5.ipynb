{
 "cells": [
  {
   "cell_type": "code",
   "execution_count": 3,
   "id": "90cdd756",
   "metadata": {},
   "outputs": [],
   "source": [
    "def gen_points():\n",
    "    \n",
    "    pt = list()\n",
    "    \n",
    "    for i in range(3,8):\n",
    "        for j in range(3,8):\n",
    "            for k in range(3,8):\n",
    "                pt.append([i, j, k])\n",
    "    return pt"
   ]
  },
  {
   "cell_type": "code",
   "execution_count": 5,
   "id": "df04d4f5",
   "metadata": {},
   "outputs": [
    {
     "ename": "AttributeError",
     "evalue": "'vtkmodules.vtkFiltersSources.vtkPointSource' object has no attribute 'InsertNextPoint'",
     "output_type": "error",
     "traceback": [
      "\u001b[0;31m---------------------------------------------------------------------------\u001b[0m",
      "\u001b[0;31mAttributeError\u001b[0m                            Traceback (most recent call last)",
      "Cell \u001b[0;32mIn[5], line 8\u001b[0m\n\u001b[1;32m      6\u001b[0m points \u001b[38;5;241m=\u001b[39m vtk\u001b[38;5;241m.\u001b[39mvtkPointSource()\n\u001b[1;32m      7\u001b[0m \u001b[38;5;28;01mfor\u001b[39;00m point \u001b[38;5;129;01min\u001b[39;00m gen_points():\n\u001b[0;32m----> 8\u001b[0m     \u001b[43mpoints\u001b[49m\u001b[38;5;241;43m.\u001b[39;49m\u001b[43mInsertNextPoint\u001b[49m(point)\n\u001b[1;32m      9\u001b[0m \u001b[38;5;66;03m# points.InsertNextPoint(0, 0, 0)\u001b[39;00m\n\u001b[1;32m     10\u001b[0m \u001b[38;5;66;03m# points.InsertNextPoint(1, 0, 0)\u001b[39;00m\n\u001b[1;32m     11\u001b[0m \u001b[38;5;66;03m# points.InsertNextPoint(1, 1, 0)\u001b[39;00m\n\u001b[0;32m   (...)\u001b[0m\n\u001b[1;32m     14\u001b[0m \n\u001b[1;32m     15\u001b[0m \u001b[38;5;66;03m# Create a polydata object and set its points\u001b[39;00m\n\u001b[1;32m     16\u001b[0m polydata \u001b[38;5;241m=\u001b[39m vtk\u001b[38;5;241m.\u001b[39mvtkPolyData()\n",
      "\u001b[0;31mAttributeError\u001b[0m: 'vtkmodules.vtkFiltersSources.vtkPointSource' object has no attribute 'InsertNextPoint'"
     ]
    }
   ],
   "source": [
    "import vtk\n",
    "from vtkmodules.vtkCommonColor import vtkNamedColors\n",
    "\n",
    "# Create a set of sample points\n",
    "# points = vtk.vtkPoints()\n",
    "points = vtk.vtkPointSource()\n",
    "for point in gen_points():\n",
    "    points.InsertNextPoint(point)\n",
    "# points.InsertNextPoint(0, 0, 0)\n",
    "# points.InsertNextPoint(1, 0, 0)\n",
    "# points.InsertNextPoint(1, 1, 0)\n",
    "# points.InsertNextPoint(0, 1, 0)\n",
    "# points.InsertNextPoint(0.5, 0.5, 1)\n",
    "\n",
    "# Create a polydata object and set its points\n",
    "polydata = vtk.vtkPolyData()\n",
    "polydata.SetPoints(points)\n",
    "\n",
    "# Create a Delaunay3D filter and set its input to the polydata\n",
    "# delaunay = vtk.vtkDelaunay3D()\n",
    "# delaunay.SetInputData(polydata)\n",
    "# delaunay.Update()\n",
    "\n",
    "# Get the output of the Delaunay3D filter\n",
    "# mesh = delaunay.GetOutput()\n",
    "\n",
    "# Create a mapper and actor for the mesh\n",
    "mapper = vtk.vtkPolyDataMapper()\n",
    "# mapper.SetInputData(mesh)\n",
    "mapper.SetInputData(polydata)\n",
    "actor = vtk.vtkActor()\n",
    "actor.SetMapper(mapper)\n",
    "actor.GetProperty().SetPointSize(4)\n",
    "colors = vtkNamedColors()\n",
    "actor.GetProperty().SetColor(colors.GetColor3d('MidnightBlue'))\n",
    "\n",
    "# Create a renderer and add the actor to it\n",
    "renderer = vtk.vtkRenderer()\n",
    "renderer.SetBackground(colors.GetColor3d('White'))\n",
    "renderer.AddActor(actor)\n",
    "\n",
    "# Create a render window and set its size\n",
    "render_window = vtk.vtkRenderWindow()\n",
    "render_window.SetSize(600, 600)\n",
    "\n",
    "# Add the renderer to the render window\n",
    "render_window.AddRenderer(renderer)\n",
    "\n",
    "# Create an interactor and start the render loop\n",
    "interactor = vtk.vtkRenderWindowInteractor()\n",
    "interactor.SetRenderWindow(render_window)\n",
    "interactor.Initialize()\n",
    "interactor.Start()\n"
   ]
  },
  {
   "cell_type": "code",
   "execution_count": null,
   "id": "d0403f5f",
   "metadata": {},
   "outputs": [],
   "source": []
  }
 ],
 "metadata": {
  "kernelspec": {
   "display_name": "Python [conda env:vtk] *",
   "language": "python",
   "name": "conda-env-vtk-py"
  },
  "language_info": {
   "codemirror_mode": {
    "name": "ipython",
    "version": 3
   },
   "file_extension": ".py",
   "mimetype": "text/x-python",
   "name": "python",
   "nbconvert_exporter": "python",
   "pygments_lexer": "ipython3",
   "version": "3.11.0"
  }
 },
 "nbformat": 4,
 "nbformat_minor": 5
}
